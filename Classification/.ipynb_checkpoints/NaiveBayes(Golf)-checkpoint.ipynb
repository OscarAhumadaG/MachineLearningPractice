{
 "cells": [
  {
   "cell_type": "markdown",
   "id": "f1c7f7be-650f-4b44-bd2b-56a9f4c72880",
   "metadata": {},
   "source": [
    "# Naive Bayes - Golf Dataset"
   ]
  },
  {
   "cell_type": "code",
   "execution_count": 1,
   "id": "330149a2-e946-4f51-9106-29a561d6ced7",
   "metadata": {},
   "outputs": [],
   "source": [
    "import pandas as pd\n",
    "\n",
    "from sklearn.preprocessing import LabelEncoder\n",
    "\n",
    "from sklearn.naive_bayes import GaussianNB\n"
   ]
  },
  {
   "cell_type": "code",
   "execution_count": 9,
   "id": "40f1a5a6-5cd9-4251-bacd-05354a9beced",
   "metadata": {},
   "outputs": [
    {
     "data": {
      "text/html": [
       "<div>\n",
       "<style scoped>\n",
       "    .dataframe tbody tr th:only-of-type {\n",
       "        vertical-align: middle;\n",
       "    }\n",
       "\n",
       "    .dataframe tbody tr th {\n",
       "        vertical-align: top;\n",
       "    }\n",
       "\n",
       "    .dataframe thead th {\n",
       "        text-align: right;\n",
       "    }\n",
       "</style>\n",
       "<table border=\"1\" class=\"dataframe\">\n",
       "  <thead>\n",
       "    <tr style=\"text-align: right;\">\n",
       "      <th></th>\n",
       "      <th>Outlook</th>\n",
       "      <th>Temp</th>\n",
       "      <th>Humidity</th>\n",
       "      <th>Windy</th>\n",
       "      <th>Play Golf</th>\n",
       "    </tr>\n",
       "  </thead>\n",
       "  <tbody>\n",
       "    <tr>\n",
       "      <th>0</th>\n",
       "      <td>Rainy</td>\n",
       "      <td>Hot</td>\n",
       "      <td>High</td>\n",
       "      <td>False</td>\n",
       "      <td>No</td>\n",
       "    </tr>\n",
       "    <tr>\n",
       "      <th>1</th>\n",
       "      <td>Rainy</td>\n",
       "      <td>Hot</td>\n",
       "      <td>High</td>\n",
       "      <td>True</td>\n",
       "      <td>No</td>\n",
       "    </tr>\n",
       "    <tr>\n",
       "      <th>2</th>\n",
       "      <td>Overcast</td>\n",
       "      <td>Hot</td>\n",
       "      <td>High</td>\n",
       "      <td>False</td>\n",
       "      <td>Yes</td>\n",
       "    </tr>\n",
       "    <tr>\n",
       "      <th>3</th>\n",
       "      <td>Sunny</td>\n",
       "      <td>Mild</td>\n",
       "      <td>High</td>\n",
       "      <td>False</td>\n",
       "      <td>Yes</td>\n",
       "    </tr>\n",
       "    <tr>\n",
       "      <th>4</th>\n",
       "      <td>Sunny</td>\n",
       "      <td>Cool</td>\n",
       "      <td>Normal</td>\n",
       "      <td>False</td>\n",
       "      <td>Yes</td>\n",
       "    </tr>\n",
       "    <tr>\n",
       "      <th>5</th>\n",
       "      <td>Sunny</td>\n",
       "      <td>Cool</td>\n",
       "      <td>Normal</td>\n",
       "      <td>True</td>\n",
       "      <td>No</td>\n",
       "    </tr>\n",
       "    <tr>\n",
       "      <th>6</th>\n",
       "      <td>Overcast</td>\n",
       "      <td>Cool</td>\n",
       "      <td>Normal</td>\n",
       "      <td>True</td>\n",
       "      <td>Yes</td>\n",
       "    </tr>\n",
       "    <tr>\n",
       "      <th>7</th>\n",
       "      <td>Rainy</td>\n",
       "      <td>Mild</td>\n",
       "      <td>High</td>\n",
       "      <td>False</td>\n",
       "      <td>No</td>\n",
       "    </tr>\n",
       "    <tr>\n",
       "      <th>8</th>\n",
       "      <td>Rainy</td>\n",
       "      <td>Cool</td>\n",
       "      <td>Normal</td>\n",
       "      <td>False</td>\n",
       "      <td>Yes</td>\n",
       "    </tr>\n",
       "    <tr>\n",
       "      <th>9</th>\n",
       "      <td>Sunny</td>\n",
       "      <td>Mild</td>\n",
       "      <td>Normal</td>\n",
       "      <td>False</td>\n",
       "      <td>Yes</td>\n",
       "    </tr>\n",
       "    <tr>\n",
       "      <th>10</th>\n",
       "      <td>Rainy</td>\n",
       "      <td>Mild</td>\n",
       "      <td>Normal</td>\n",
       "      <td>True</td>\n",
       "      <td>Yes</td>\n",
       "    </tr>\n",
       "    <tr>\n",
       "      <th>11</th>\n",
       "      <td>Overcast</td>\n",
       "      <td>Mild</td>\n",
       "      <td>High</td>\n",
       "      <td>True</td>\n",
       "      <td>Yes</td>\n",
       "    </tr>\n",
       "    <tr>\n",
       "      <th>12</th>\n",
       "      <td>Overcast</td>\n",
       "      <td>Hot</td>\n",
       "      <td>Normal</td>\n",
       "      <td>False</td>\n",
       "      <td>Yes</td>\n",
       "    </tr>\n",
       "    <tr>\n",
       "      <th>13</th>\n",
       "      <td>Sunny</td>\n",
       "      <td>Mild</td>\n",
       "      <td>High</td>\n",
       "      <td>True</td>\n",
       "      <td>No</td>\n",
       "    </tr>\n",
       "  </tbody>\n",
       "</table>\n",
       "</div>"
      ],
      "text/plain": [
       "     Outlook  Temp Humidity  Windy Play Golf\n",
       "0      Rainy   Hot     High  False        No\n",
       "1      Rainy   Hot     High   True        No\n",
       "2   Overcast   Hot     High  False       Yes\n",
       "3      Sunny  Mild     High  False       Yes\n",
       "4      Sunny  Cool   Normal  False       Yes\n",
       "5      Sunny  Cool   Normal   True        No\n",
       "6   Overcast  Cool   Normal   True       Yes\n",
       "7      Rainy  Mild     High  False        No\n",
       "8      Rainy  Cool   Normal  False       Yes\n",
       "9      Sunny  Mild   Normal  False       Yes\n",
       "10     Rainy  Mild   Normal   True       Yes\n",
       "11  Overcast  Mild     High   True       Yes\n",
       "12  Overcast   Hot   Normal  False       Yes\n",
       "13     Sunny  Mild     High   True        No"
      ]
     },
     "execution_count": 9,
     "metadata": {},
     "output_type": "execute_result"
    }
   ],
   "source": [
    "# Loading the dataset\n",
    "df = pd.read_csv(\"data/golf-dataset.csv\")\n",
    "df"
   ]
  },
  {
   "cell_type": "markdown",
   "id": "de2eadd7-7bc9-4f67-abc9-ebcff5d83234",
   "metadata": {},
   "source": [
    "## Bayes Theorem\n",
    "\n",
    "$P(A|B) = \\dfrac{P(B|A)P(A)}{P(B)}$\n",
    "\n",
    "The goal is to predict for:\n",
    "\n",
    "Should we play golf if:\n",
    "- **Outlook = Sunny,  Temperature = Cool,  Humidity = High,  Windy = True**\n",
    "\n",
    "Mathematically:\n",
    "- **P(Yes | Outlook = Sunny, Temperature = Cool, Humidity = High, Windy = True)**"
   ]
  },
  {
   "cell_type": "markdown",
   "id": "31dad910-5266-4e01-9442-01b648f2dfdb",
   "metadata": {},
   "source": [
    "### Checking the types of variables"
   ]
  },
  {
   "cell_type": "code",
   "execution_count": 8,
   "id": "cfc7dbd8-5083-4923-b5b4-35e73b55b191",
   "metadata": {},
   "outputs": [
    {
     "name": "stdout",
     "output_type": "stream",
     "text": [
      "Outlook      object\n",
      "Temp         object\n",
      "Humidity     object\n",
      "Windy          bool\n",
      "Play Golf    object\n",
      "dtype: object\n"
     ]
    }
   ],
   "source": [
    "print(df.dtypes)"
   ]
  },
  {
   "cell_type": "markdown",
   "id": "f77bf867-3d60-4218-b46b-eaf47713ac60",
   "metadata": {},
   "source": [
    "## Naives Bayes Manually"
   ]
  },
  {
   "cell_type": "code",
   "execution_count": 16,
   "id": "888d930a-667c-486b-9251-3527f7240207",
   "metadata": {},
   "outputs": [
    {
     "data": {
      "text/plain": [
       "(0.6428571428571429, 0.35714285714285715)"
      ]
     },
     "execution_count": 16,
     "metadata": {},
     "output_type": "execute_result"
    }
   ],
   "source": [
    "# Calculating the probability of playing or not playing golf separatly\n",
    "p_yes = df[df[\"Play Golf\"]== \"Yes\"].shape[0] / df.shape[0]\n",
    "p_no = df[df[\"Play Golf\"]== \"No\"].shape[0] / df.shape[0]\n",
    "\n",
    "\n",
    "p_yes, p_no"
   ]
  },
  {
   "cell_type": "markdown",
   "id": "f029f06a-e8fd-4fe5-8a86-d16fc24c5f44",
   "metadata": {},
   "source": [
    "##### Calculating the probs manually\n",
    "Example: P(Outlook = Sunny | play = Yes)\n",
    "- p_outlook_sunny_yes = 3/9\n",
    "- p_temp_cool_yes = 3/9\n",
    "- p_humidity_high_yes = 3/9\n",
    "- p_wind_true_yes = 3/9\n",
    "\n",
    "P(Outlook = Sunny | play = No)\n",
    "\n",
    "- p_outlook_sunny_no = 2/5\n",
    "- p_temp_cool_no = 1/5\n",
    "- p_humidity_high_no = 4/5\n",
    "- p_wind_true_no = 3/5"
   ]
  },
  {
   "cell_type": "markdown",
   "id": "7b01934a-5344-4d8d-94be-8de5e50f2e3c",
   "metadata": {},
   "source": [
    "### Calculating the probs by using pandas\n"
   ]
  },
  {
   "cell_type": "code",
   "execution_count": 26,
   "id": "15dd9b5d-6230-452e-ab78-dc87bf29c924",
   "metadata": {},
   "outputs": [
    {
     "name": "stdout",
     "output_type": "stream",
     "text": [
      "P(Outlook == Sunny | Play == Yes):  0.3333333333333333\n",
      "P(Temp == Cool | Play == Yes):  0.3333333333333333\n",
      "P(Humidity == High | Play == Yes):  0.3333333333333333\n",
      "P(Windy == True | Play == Yes):  0.3333333333333333\n"
     ]
    }
   ],
   "source": [
    "# P(outlook == sunny | play == yes)\n",
    "P_outlook_sunny_yes =  df[(df[\"Play Golf\"] == \"Yes\") & (df[\"Outlook\"] == \"Sunny\")].shape[0] / df[df[\"Play Golf\"] == \"Yes\"].shape[0]\n",
    "print(\"P(Outlook == Sunny | Play == Yes): \", P_outlook_sunny_yes)\n",
    "\n",
    "# P(temp == cool | play == yes)\n",
    "P_temp_cool_yes  = df[(df[\"Play Golf\"] == \"Yes\") & (df[\"Temp\"] == \"Cool\")].shape[0] / df[df[\"Play Golf\"] == \"Yes\"].shape[0] \n",
    "print(\"P(Temp == Cool | Play == Yes): \", P_temp_cool_yes)\n",
    "\n",
    "# P(humidity == high | play == yes)\n",
    "P_humidity_high_yes  = df[(df[\"Play Golf\"] == \"Yes\") & (df[\"Humidity\"] == \"High\")].shape[0] / df[df[\"Play Golf\"] == \"Yes\"].shape[0] \n",
    "print(\"P(Humidity == High | Play == Yes): \", P_humidity_high_yes)\n",
    "\n",
    "# P(windy == True | play == yes)\n",
    "P_windy_true_yes  = df[(df[\"Play Golf\"] == \"Yes\") & (df[\"Windy\"] == True)].shape[0] / df[df[\"Play Golf\"] == \"Yes\"].shape[0] \n",
    "print(\"P(Windy == True | Play == Yes): \", P_windy_true_yes)"
   ]
  },
  {
   "cell_type": "code",
   "execution_count": 23,
   "id": "fc64aa1d-2a18-451c-b015-54ac2bdd2998",
   "metadata": {},
   "outputs": [
    {
     "name": "stdout",
     "output_type": "stream",
     "text": [
      "P(Outlook == Sunny | Play == No) : 0.4\n",
      "P(Temp == Cool | Play == No) : 0.2\n",
      "P(Humidity == High | Play == No) : 0.8\n",
      "P(Windy == True | Play == No) : 0.6\n"
     ]
    }
   ],
   "source": [
    "# P(outlook == sunny | play == no)\n",
    "P_outlook_sunny_no =  df[(df[\"Play Golf\"] == \"No\") & (df[\"Outlook\"] == \"Sunny\")].shape[0] / df[df[\"Play Golf\"] == \"No\"].shape[0]\n",
    "print(\"P(Outlook == Sunny | Play == No) :\", P_outlook_sunny_no)\n",
    "\n",
    "# P(temp == cool | play ==no)\n",
    "P_temp_cool_no  = df[(df[\"Play Golf\"] == \"No\") & (df[\"Temp\"] == \"Cool\")].shape[0] / df[df[\"Play Golf\"] == \"No\"].shape[0] \n",
    "print(\"P(Temp == Cool | Play == No) :\", P_temp_cool_no)\n",
    "\n",
    "# P(humidity == high | play == no)\n",
    "P_humidity_high_no  = df[(df[\"Play Golf\"] == \"No\") & (df[\"Humidity\"] == \"High\")].shape[0] / df[df[\"Play Golf\"] == \"No\"].shape[0] \n",
    "print(\"P(Humidity == High | Play == No) :\", P_humidity_high_no)\n",
    "\n",
    "# P(windy == True | play == no)\n",
    "P_windy_true_no = df[(df[\"Play Golf\"] == \"No\") & (df[\"Windy\"] == True)].shape[0] / df[df[\"Play Golf\"] == \"No\"].shape[0] \n",
    "print(\"P(Windy == True | Play == No) :\", P_windy_true_no)"
   ]
  },
  {
   "cell_type": "markdown",
   "id": "e544ecd2-c83c-49a7-a9df-fbfecf85d0c7",
   "metadata": {},
   "source": [
    "\n",
    "\n",
    "$P(A|B) = \\dfrac{P(B|A)P(A)}{P(B)}$\n",
    "\n",
    "$P(Yes|Sunny, Cool, High, Windy) = \\dfrac{P(Sunny, Cool, High, Windy|Yes)P(Yes)}{P(Sunny, Cool, High, Windy)}$\n",
    "\n",
    "$P(No|Sunny, Cool, High, Windy) = \\dfrac{P(Sunny, Cool, High, Windy|Yes)P(No)}{P(Sunny, Cool, High, Windy)}$"
   ]
  },
  {
   "cell_type": "code",
   "execution_count": 27,
   "id": "c15178ca-ff6a-499f-8d56-3d0ebc5b4a43",
   "metadata": {},
   "outputs": [
    {
     "data": {
      "text/plain": [
       "0.012345679012345678"
      ]
     },
     "execution_count": 27,
     "metadata": {},
     "output_type": "execute_result"
    }
   ],
   "source": [
    "# P(Sunny, Cool, High, Windy | Yes)\n",
    "p_sunny_cool_high_windy_yes = P_outlook_sunny_yes * P_temp_cool_yes * P_humidity_high_yes * P_windy_true_yes\n",
    "\n",
    "p_sunny_cool_high_windy_yes"
   ]
  },
  {
   "cell_type": "code",
   "execution_count": 29,
   "id": "fa31b9d1-aa3e-49de-8b45-1385108539d7",
   "metadata": {},
   "outputs": [
    {
     "data": {
      "text/plain": [
       "0.03840000000000001"
      ]
     },
     "execution_count": 29,
     "metadata": {},
     "output_type": "execute_result"
    }
   ],
   "source": [
    "# P(Sunny, Cool, High, Windy | No)\n",
    "\n",
    "p_sunny_cool_high_windy_no = P_outlook_sunny_no * P_temp_cool_no * P_humidity_high_no * P_windy_true_no\n",
    "p_sunny_cool_high_windy_no"
   ]
  },
  {
   "cell_type": "code",
   "execution_count": 33,
   "id": "bb10c102-630b-4ec5-a0db-5a47e13254fe",
   "metadata": {},
   "outputs": [
    {
     "name": "stdout",
     "output_type": "stream",
     "text": [
      "0.35714285714285715 0.2857142857142857 0.5 0.42857142857142855\n"
     ]
    },
    {
     "data": {
      "text/plain": [
       "0.021865889212827987"
      ]
     },
     "execution_count": 33,
     "metadata": {},
     "output_type": "execute_result"
    }
   ],
   "source": [
    "# normalizing the resulted value by\n",
    "# P(Outlook = Sunny, Temperature = Cool, Humidity = High, Windy = True)\n",
    "\n",
    "p_sunny = df[df[\"Outlook\"] == \"Sunny\"].shape[0] / df.shape[0]\n",
    "p_cool = df[df[\"Temp\"] == \"Cool\"].shape[0] / df.shape[0]\n",
    "p_high = df[df[\"Humidity\"] == \"High\"].shape[0] / df.shape[0]\n",
    "p_windy = df[df[\"Windy\"] == True].shape[0] / df.shape[0]\n",
    "\n",
    "# Calculating the denominator\n",
    "p_sunny_cool_high_windy = p_sunny * p_cool * p_high * p_windy\n",
    "p_sunny_cool_high_windy"
   ]
  },
  {
   "cell_type": "code",
   "execution_count": 34,
   "id": "febe7b7c-0008-41c2-b3b5-4b72d39b2264",
   "metadata": {},
   "outputs": [
    {
     "data": {
      "text/plain": [
       "0.36296296296296293"
      ]
     },
     "execution_count": 34,
     "metadata": {},
     "output_type": "execute_result"
    }
   ],
   "source": [
    "# Applying the Bayes Theorem\n",
    "p_final_yes = p_sunny_cool_high_windy_yes * p_yes / p_sunny_cool_high_windy\n",
    "p_final_yes"
   ]
  },
  {
   "cell_type": "code",
   "execution_count": 35,
   "id": "6b027c1d-fe68-44f3-8fb8-1f6b47801d62",
   "metadata": {},
   "outputs": [
    {
     "data": {
      "text/plain": [
       "0.6272000000000002"
      ]
     },
     "execution_count": 35,
     "metadata": {},
     "output_type": "execute_result"
    }
   ],
   "source": [
    "p_final_no = p_sunny_cool_high_windy_no * p_no / p_sunny_cool_high_windy\n",
    "p_final_no"
   ]
  },
  {
   "cell_type": "markdown",
   "id": "a05f3d54-fe01-4e22-b21f-5ba05aa085ec",
   "metadata": {},
   "source": [
    "### Naives Bayes by using SciKit Learn"
   ]
  },
  {
   "cell_type": "code",
   "execution_count": 44,
   "id": "44836b62-5459-46f2-89ab-4045c682b231",
   "metadata": {},
   "outputs": [
    {
     "data": {
      "text/html": [
       "<div>\n",
       "<style scoped>\n",
       "    .dataframe tbody tr th:only-of-type {\n",
       "        vertical-align: middle;\n",
       "    }\n",
       "\n",
       "    .dataframe tbody tr th {\n",
       "        vertical-align: top;\n",
       "    }\n",
       "\n",
       "    .dataframe thead th {\n",
       "        text-align: right;\n",
       "    }\n",
       "</style>\n",
       "<table border=\"1\" class=\"dataframe\">\n",
       "  <thead>\n",
       "    <tr style=\"text-align: right;\">\n",
       "      <th></th>\n",
       "      <th>Outlook</th>\n",
       "      <th>Temp</th>\n",
       "      <th>Humidity</th>\n",
       "      <th>Windy</th>\n",
       "      <th>Play Golf</th>\n",
       "    </tr>\n",
       "  </thead>\n",
       "  <tbody>\n",
       "    <tr>\n",
       "      <th>0</th>\n",
       "      <td>1</td>\n",
       "      <td>1</td>\n",
       "      <td>0</td>\n",
       "      <td>0</td>\n",
       "      <td>0</td>\n",
       "    </tr>\n",
       "    <tr>\n",
       "      <th>1</th>\n",
       "      <td>1</td>\n",
       "      <td>1</td>\n",
       "      <td>0</td>\n",
       "      <td>1</td>\n",
       "      <td>0</td>\n",
       "    </tr>\n",
       "    <tr>\n",
       "      <th>2</th>\n",
       "      <td>0</td>\n",
       "      <td>1</td>\n",
       "      <td>0</td>\n",
       "      <td>0</td>\n",
       "      <td>1</td>\n",
       "    </tr>\n",
       "    <tr>\n",
       "      <th>3</th>\n",
       "      <td>2</td>\n",
       "      <td>2</td>\n",
       "      <td>0</td>\n",
       "      <td>0</td>\n",
       "      <td>1</td>\n",
       "    </tr>\n",
       "    <tr>\n",
       "      <th>4</th>\n",
       "      <td>2</td>\n",
       "      <td>0</td>\n",
       "      <td>1</td>\n",
       "      <td>0</td>\n",
       "      <td>1</td>\n",
       "    </tr>\n",
       "    <tr>\n",
       "      <th>5</th>\n",
       "      <td>2</td>\n",
       "      <td>0</td>\n",
       "      <td>1</td>\n",
       "      <td>1</td>\n",
       "      <td>0</td>\n",
       "    </tr>\n",
       "    <tr>\n",
       "      <th>6</th>\n",
       "      <td>0</td>\n",
       "      <td>0</td>\n",
       "      <td>1</td>\n",
       "      <td>1</td>\n",
       "      <td>1</td>\n",
       "    </tr>\n",
       "    <tr>\n",
       "      <th>7</th>\n",
       "      <td>1</td>\n",
       "      <td>2</td>\n",
       "      <td>0</td>\n",
       "      <td>0</td>\n",
       "      <td>0</td>\n",
       "    </tr>\n",
       "    <tr>\n",
       "      <th>8</th>\n",
       "      <td>1</td>\n",
       "      <td>0</td>\n",
       "      <td>1</td>\n",
       "      <td>0</td>\n",
       "      <td>1</td>\n",
       "    </tr>\n",
       "    <tr>\n",
       "      <th>9</th>\n",
       "      <td>2</td>\n",
       "      <td>2</td>\n",
       "      <td>1</td>\n",
       "      <td>0</td>\n",
       "      <td>1</td>\n",
       "    </tr>\n",
       "    <tr>\n",
       "      <th>10</th>\n",
       "      <td>1</td>\n",
       "      <td>2</td>\n",
       "      <td>1</td>\n",
       "      <td>1</td>\n",
       "      <td>1</td>\n",
       "    </tr>\n",
       "    <tr>\n",
       "      <th>11</th>\n",
       "      <td>0</td>\n",
       "      <td>2</td>\n",
       "      <td>0</td>\n",
       "      <td>1</td>\n",
       "      <td>1</td>\n",
       "    </tr>\n",
       "    <tr>\n",
       "      <th>12</th>\n",
       "      <td>0</td>\n",
       "      <td>1</td>\n",
       "      <td>1</td>\n",
       "      <td>0</td>\n",
       "      <td>1</td>\n",
       "    </tr>\n",
       "    <tr>\n",
       "      <th>13</th>\n",
       "      <td>2</td>\n",
       "      <td>2</td>\n",
       "      <td>0</td>\n",
       "      <td>1</td>\n",
       "      <td>0</td>\n",
       "    </tr>\n",
       "  </tbody>\n",
       "</table>\n",
       "</div>"
      ],
      "text/plain": [
       "    Outlook  Temp  Humidity  Windy  Play Golf\n",
       "0         1     1         0      0          0\n",
       "1         1     1         0      1          0\n",
       "2         0     1         0      0          1\n",
       "3         2     2         0      0          1\n",
       "4         2     0         1      0          1\n",
       "5         2     0         1      1          0\n",
       "6         0     0         1      1          1\n",
       "7         1     2         0      0          0\n",
       "8         1     0         1      0          1\n",
       "9         2     2         1      0          1\n",
       "10        1     2         1      1          1\n",
       "11        0     2         0      1          1\n",
       "12        0     1         1      0          1\n",
       "13        2     2         0      1          0"
      ]
     },
     "execution_count": 44,
     "metadata": {},
     "output_type": "execute_result"
    }
   ],
   "source": [
    "# We need to convert the categorical variables into codes\n",
    "columns = ['Outlook', 'Temp', 'Humidity', 'Windy', 'Play Golf']\n",
    "\n",
    "# encoders = {\"Outlook\": le_object, \"Temp\": le2_object}\n",
    "encoders = {}\n",
    "\n",
    "# Creating label enconders for each variable\n",
    "for col in columns:\n",
    "    encoders[col] = LabelEncoder()\n",
    "    df[col] = encoders[col].fit_transform(df[col])\n",
    "    \n",
    "df"
   ]
  },
  {
   "cell_type": "code",
   "execution_count": 37,
   "id": "5398276c-3321-4e2b-88a3-26571d7e8637",
   "metadata": {},
   "outputs": [
    {
     "data": {
      "text/plain": [
       "{'Outlook': LabelEncoder(),\n",
       " 'Temp': LabelEncoder(),\n",
       " 'Humidity': LabelEncoder(),\n",
       " 'Windy': LabelEncoder(),\n",
       " 'Play Golf': LabelEncoder()}"
      ]
     },
     "execution_count": 37,
     "metadata": {},
     "output_type": "execute_result"
    }
   ],
   "source": [
    "# Showing the encoder for each variable\n",
    "encoders"
   ]
  },
  {
   "cell_type": "code",
   "execution_count": 38,
   "id": "c5564d37-f47a-481d-b495-7b9c44ffa714",
   "metadata": {},
   "outputs": [
    {
     "data": {
      "text/html": [
       "<style>#sk-container-id-1 {color: black;}#sk-container-id-1 pre{padding: 0;}#sk-container-id-1 div.sk-toggleable {background-color: white;}#sk-container-id-1 label.sk-toggleable__label {cursor: pointer;display: block;width: 100%;margin-bottom: 0;padding: 0.3em;box-sizing: border-box;text-align: center;}#sk-container-id-1 label.sk-toggleable__label-arrow:before {content: \"▸\";float: left;margin-right: 0.25em;color: #696969;}#sk-container-id-1 label.sk-toggleable__label-arrow:hover:before {color: black;}#sk-container-id-1 div.sk-estimator:hover label.sk-toggleable__label-arrow:before {color: black;}#sk-container-id-1 div.sk-toggleable__content {max-height: 0;max-width: 0;overflow: hidden;text-align: left;background-color: #f0f8ff;}#sk-container-id-1 div.sk-toggleable__content pre {margin: 0.2em;color: black;border-radius: 0.25em;background-color: #f0f8ff;}#sk-container-id-1 input.sk-toggleable__control:checked~div.sk-toggleable__content {max-height: 200px;max-width: 100%;overflow: auto;}#sk-container-id-1 input.sk-toggleable__control:checked~label.sk-toggleable__label-arrow:before {content: \"▾\";}#sk-container-id-1 div.sk-estimator input.sk-toggleable__control:checked~label.sk-toggleable__label {background-color: #d4ebff;}#sk-container-id-1 div.sk-label input.sk-toggleable__control:checked~label.sk-toggleable__label {background-color: #d4ebff;}#sk-container-id-1 input.sk-hidden--visually {border: 0;clip: rect(1px 1px 1px 1px);clip: rect(1px, 1px, 1px, 1px);height: 1px;margin: -1px;overflow: hidden;padding: 0;position: absolute;width: 1px;}#sk-container-id-1 div.sk-estimator {font-family: monospace;background-color: #f0f8ff;border: 1px dotted black;border-radius: 0.25em;box-sizing: border-box;margin-bottom: 0.5em;}#sk-container-id-1 div.sk-estimator:hover {background-color: #d4ebff;}#sk-container-id-1 div.sk-parallel-item::after {content: \"\";width: 100%;border-bottom: 1px solid gray;flex-grow: 1;}#sk-container-id-1 div.sk-label:hover label.sk-toggleable__label {background-color: #d4ebff;}#sk-container-id-1 div.sk-serial::before {content: \"\";position: absolute;border-left: 1px solid gray;box-sizing: border-box;top: 0;bottom: 0;left: 50%;z-index: 0;}#sk-container-id-1 div.sk-serial {display: flex;flex-direction: column;align-items: center;background-color: white;padding-right: 0.2em;padding-left: 0.2em;position: relative;}#sk-container-id-1 div.sk-item {position: relative;z-index: 1;}#sk-container-id-1 div.sk-parallel {display: flex;align-items: stretch;justify-content: center;background-color: white;position: relative;}#sk-container-id-1 div.sk-item::before, #sk-container-id-1 div.sk-parallel-item::before {content: \"\";position: absolute;border-left: 1px solid gray;box-sizing: border-box;top: 0;bottom: 0;left: 50%;z-index: -1;}#sk-container-id-1 div.sk-parallel-item {display: flex;flex-direction: column;z-index: 1;position: relative;background-color: white;}#sk-container-id-1 div.sk-parallel-item:first-child::after {align-self: flex-end;width: 50%;}#sk-container-id-1 div.sk-parallel-item:last-child::after {align-self: flex-start;width: 50%;}#sk-container-id-1 div.sk-parallel-item:only-child::after {width: 0;}#sk-container-id-1 div.sk-dashed-wrapped {border: 1px dashed gray;margin: 0 0.4em 0.5em 0.4em;box-sizing: border-box;padding-bottom: 0.4em;background-color: white;}#sk-container-id-1 div.sk-label label {font-family: monospace;font-weight: bold;display: inline-block;line-height: 1.2em;}#sk-container-id-1 div.sk-label-container {text-align: center;}#sk-container-id-1 div.sk-container {/* jupyter's `normalize.less` sets `[hidden] { display: none; }` but bootstrap.min.css set `[hidden] { display: none !important; }` so we also need the `!important` here to be able to override the default hidden behavior on the sphinx rendered scikit-learn.org. See: https://github.com/scikit-learn/scikit-learn/issues/21755 */display: inline-block !important;position: relative;}#sk-container-id-1 div.sk-text-repr-fallback {display: none;}</style><div id=\"sk-container-id-1\" class=\"sk-top-container\"><div class=\"sk-text-repr-fallback\"><pre>GaussianNB()</pre><b>In a Jupyter environment, please rerun this cell to show the HTML representation or trust the notebook. <br />On GitHub, the HTML representation is unable to render, please try loading this page with nbviewer.org.</b></div><div class=\"sk-container\" hidden><div class=\"sk-item\"><div class=\"sk-estimator sk-toggleable\"><input class=\"sk-toggleable__control sk-hidden--visually\" id=\"sk-estimator-id-1\" type=\"checkbox\" checked><label for=\"sk-estimator-id-1\" class=\"sk-toggleable__label sk-toggleable__label-arrow\">GaussianNB</label><div class=\"sk-toggleable__content\"><pre>GaussianNB()</pre></div></div></div></div></div>"
      ],
      "text/plain": [
       "GaussianNB()"
      ]
     },
     "execution_count": 38,
     "metadata": {},
     "output_type": "execute_result"
    }
   ],
   "source": [
    "# Insatitating the Naives Bayes model in this case we used Gaussian\n",
    "nb = GaussianNB()\n",
    "\n",
    "# Partitioning the data into features and target\n",
    "X = df.drop(columns=[\"Play Golf\"])\n",
    "y = df[\"Play Golf\"]\n",
    "\n",
    "# Fitting the model\n",
    "nb.fit(X, y)\n",
    "\n",
    "nb"
   ]
  },
  {
   "cell_type": "code",
   "execution_count": 39,
   "id": "3bc37644-1f64-41e5-9a6f-638883b08c98",
   "metadata": {},
   "outputs": [
    {
     "data": {
      "text/html": [
       "<div>\n",
       "<style scoped>\n",
       "    .dataframe tbody tr th:only-of-type {\n",
       "        vertical-align: middle;\n",
       "    }\n",
       "\n",
       "    .dataframe tbody tr th {\n",
       "        vertical-align: top;\n",
       "    }\n",
       "\n",
       "    .dataframe thead th {\n",
       "        text-align: right;\n",
       "    }\n",
       "</style>\n",
       "<table border=\"1\" class=\"dataframe\">\n",
       "  <thead>\n",
       "    <tr style=\"text-align: right;\">\n",
       "      <th></th>\n",
       "      <th>Outlook</th>\n",
       "      <th>Temp</th>\n",
       "      <th>Humidity</th>\n",
       "      <th>Windy</th>\n",
       "    </tr>\n",
       "  </thead>\n",
       "  <tbody>\n",
       "    <tr>\n",
       "      <th>0</th>\n",
       "      <td>Sunny</td>\n",
       "      <td>Cool</td>\n",
       "      <td>High</td>\n",
       "      <td>True</td>\n",
       "    </tr>\n",
       "  </tbody>\n",
       "</table>\n",
       "</div>"
      ],
      "text/plain": [
       "  Outlook  Temp Humidity Windy\n",
       "0   Sunny  Cool     High  True"
      ]
     },
     "execution_count": 39,
     "metadata": {},
     "output_type": "execute_result"
    }
   ],
   "source": [
    "# Let's use a new data to test the model\n",
    "data = ['Sunny', 'Cool', 'High', 'True']\n",
    "columns = ['Outlook', 'Temp', 'Humidity', 'Windy']\n",
    "\n",
    "# Converting into a DataFrame\n",
    "df_test = pd.DataFrame(data=[data], columns=columns)\n",
    "df_test"
   ]
  },
  {
   "cell_type": "code",
   "execution_count": 40,
   "id": "cb516981-0424-4dc6-935d-f116cb7a58c9",
   "metadata": {},
   "outputs": [
    {
     "data": {
      "text/html": [
       "<div>\n",
       "<style scoped>\n",
       "    .dataframe tbody tr th:only-of-type {\n",
       "        vertical-align: middle;\n",
       "    }\n",
       "\n",
       "    .dataframe tbody tr th {\n",
       "        vertical-align: top;\n",
       "    }\n",
       "\n",
       "    .dataframe thead th {\n",
       "        text-align: right;\n",
       "    }\n",
       "</style>\n",
       "<table border=\"1\" class=\"dataframe\">\n",
       "  <thead>\n",
       "    <tr style=\"text-align: right;\">\n",
       "      <th></th>\n",
       "      <th>Outlook</th>\n",
       "      <th>Temp</th>\n",
       "      <th>Humidity</th>\n",
       "      <th>Windy</th>\n",
       "    </tr>\n",
       "  </thead>\n",
       "  <tbody>\n",
       "    <tr>\n",
       "      <th>0</th>\n",
       "      <td>2</td>\n",
       "      <td>0</td>\n",
       "      <td>0</td>\n",
       "      <td>1</td>\n",
       "    </tr>\n",
       "  </tbody>\n",
       "</table>\n",
       "</div>"
      ],
      "text/plain": [
       "   Outlook  Temp  Humidity  Windy\n",
       "0        2     0         0      1"
      ]
     },
     "execution_count": 40,
     "metadata": {},
     "output_type": "execute_result"
    }
   ],
   "source": [
    "# Applying the enconders to each variable\n",
    "for col in columns:\n",
    "    df_test[col] = encoders[col].transform(df_test[col])\n",
    "    \n",
    "df_test"
   ]
  },
  {
   "cell_type": "code",
   "execution_count": 41,
   "id": "70e1d372-c9ab-47d5-8fb5-3e3fcafef4af",
   "metadata": {},
   "outputs": [
    {
     "data": {
      "text/plain": [
       "array([0])"
      ]
     },
     "execution_count": 41,
     "metadata": {},
     "output_type": "execute_result"
    }
   ],
   "source": [
    "# Predicting by using the model\n",
    "prediction = nb.predict(df_test)\n",
    "prediction"
   ]
  },
  {
   "cell_type": "code",
   "execution_count": 42,
   "id": "440ed34b-54b1-4c0b-8a37-5a929103987e",
   "metadata": {},
   "outputs": [
    {
     "data": {
      "text/plain": [
       "array(['No'], dtype=object)"
      ]
     },
     "execution_count": 42,
     "metadata": {},
     "output_type": "execute_result"
    }
   ],
   "source": [
    "# Transforming the results into a raw data\n",
    "encoders[\"Play Golf\"].inverse_transform(prediction)"
   ]
  },
  {
   "cell_type": "code",
   "execution_count": 43,
   "id": "c64870fd-0f35-44b9-89f8-be6d5f5810db",
   "metadata": {},
   "outputs": [
    {
     "data": {
      "text/plain": [
       "array([[0.80106965, 0.19893035]])"
      ]
     },
     "execution_count": 43,
     "metadata": {},
     "output_type": "execute_result"
    }
   ],
   "source": [
    "# Checking the probability result\n",
    "prediction_proba = nb.predict_proba(df_test)\n",
    "prediction_proba"
   ]
  }
 ],
 "metadata": {
  "kernelspec": {
   "display_name": "Python 3 (ipykernel)",
   "language": "python",
   "name": "python3"
  },
  "language_info": {
   "codemirror_mode": {
    "name": "ipython",
    "version": 3
   },
   "file_extension": ".py",
   "mimetype": "text/x-python",
   "name": "python",
   "nbconvert_exporter": "python",
   "pygments_lexer": "ipython3",
   "version": "3.9.18"
  }
 },
 "nbformat": 4,
 "nbformat_minor": 5
}
