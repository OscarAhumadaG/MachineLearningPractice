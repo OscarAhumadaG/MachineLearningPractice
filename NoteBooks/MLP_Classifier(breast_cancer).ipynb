{
 "cells": [
  {
   "cell_type": "markdown",
   "id": "b84dfaa4-2d59-4835-b382-71d2fb869af4",
   "metadata": {},
   "source": [
    "# Neural Network Classifier - Breat Cancer"
   ]
  },
  {
   "cell_type": "code",
   "execution_count": 1,
   "id": "3ba1f5fb-67ae-4927-8f35-24f82e246e62",
   "metadata": {},
   "outputs": [],
   "source": [
    "import pandas as pd\n",
    "from sklearn import datasets\n",
    "\n",
    "\n",
    "from sklearn.model_selection import train_test_split\n",
    "from sklearn.preprocessing import StandardScaler\n",
    "from sklearn.neural_network import MLPClassifier\n",
    "from sklearn.metrics import confusion_matrix, ConfusionMatrixDisplay, f1_score\n",
    "\n",
    "import plotly.express as px\n",
    "import plotly.graph_objs as go\n",
    "import matplotlib.pyplot as plt"
   ]
  },
  {
   "cell_type": "code",
   "execution_count": 3,
   "id": "d49de596-d9c5-4c1f-8dda-5c1d556b0640",
   "metadata": {},
   "outputs": [],
   "source": [
    "# General config of pandas\n",
    "pd.set_option(\"display.max_rows\", None)\n",
    "pd.set_option(\"display.max_columns\", None)\n",
    "pd.set_option(\"display.width\", None)\n",
    "pd.set_option('display.expand_frame_repr', False)\n"
   ]
  },
  {
   "cell_type": "code",
   "execution_count": 6,
   "id": "945e4bbf-a6de-4c9f-ad95-2e3349c380c1",
   "metadata": {},
   "outputs": [
    {
     "name": "stdout",
     "output_type": "stream",
     "text": [
      "Features: ['mean radius' 'mean texture' 'mean perimeter' 'mean area'\n",
      " 'mean smoothness' 'mean compactness' 'mean concavity'\n",
      " 'mean concave points' 'mean symmetry' 'mean fractal dimension'\n",
      " 'radius error' 'texture error' 'perimeter error' 'area error'\n",
      " 'smoothness error' 'compactness error' 'concavity error'\n",
      " 'concave points error' 'symmetry error' 'fractal dimension error'\n",
      " 'worst radius' 'worst texture' 'worst perimeter' 'worst area'\n",
      " 'worst smoothness' 'worst compactness' 'worst concavity'\n",
      " 'worst concave points' 'worst symmetry' 'worst fractal dimension']\n",
      "\n",
      "Target: ['malignant' 'benign']\n"
     ]
    }
   ],
   "source": [
    "# https://scikit-learn.org/stable/modules/generated/sklearn.datasets.load_breast_cancer.html\n",
    "\n",
    "cancer = datasets.load_breast_cancer()\n",
    "\n",
    "# Retrieving features from the datasets\n",
    "print(f\"Features: {cancer.feature_names}\\n\")\n",
    "print(f\"Target: {cancer.target_names}\")\n"
   ]
  },
  {
   "cell_type": "markdown",
   "id": "ed9e6825-fdc4-457e-8899-7b9b4388b767",
   "metadata": {},
   "source": [
    "### Creating the pandas dataframe"
   ]
  },
  {
   "cell_type": "code",
   "execution_count": 7,
   "id": "375f20bd-03ad-46e1-97aa-bcc28f9b10b3",
   "metadata": {},
   "outputs": [
    {
     "data": {
      "text/html": [
       "<div>\n",
       "<style scoped>\n",
       "    .dataframe tbody tr th:only-of-type {\n",
       "        vertical-align: middle;\n",
       "    }\n",
       "\n",
       "    .dataframe tbody tr th {\n",
       "        vertical-align: top;\n",
       "    }\n",
       "\n",
       "    .dataframe thead th {\n",
       "        text-align: right;\n",
       "    }\n",
       "</style>\n",
       "<table border=\"1\" class=\"dataframe\">\n",
       "  <thead>\n",
       "    <tr style=\"text-align: right;\">\n",
       "      <th></th>\n",
       "      <th>mean radius</th>\n",
       "      <th>mean texture</th>\n",
       "      <th>mean perimeter</th>\n",
       "      <th>mean area</th>\n",
       "      <th>mean smoothness</th>\n",
       "      <th>mean compactness</th>\n",
       "      <th>mean concavity</th>\n",
       "      <th>mean concave points</th>\n",
       "      <th>mean symmetry</th>\n",
       "      <th>mean fractal dimension</th>\n",
       "      <th>radius error</th>\n",
       "      <th>texture error</th>\n",
       "      <th>perimeter error</th>\n",
       "      <th>area error</th>\n",
       "      <th>smoothness error</th>\n",
       "      <th>compactness error</th>\n",
       "      <th>concavity error</th>\n",
       "      <th>concave points error</th>\n",
       "      <th>symmetry error</th>\n",
       "      <th>fractal dimension error</th>\n",
       "      <th>worst radius</th>\n",
       "      <th>worst texture</th>\n",
       "      <th>worst perimeter</th>\n",
       "      <th>worst area</th>\n",
       "      <th>worst smoothness</th>\n",
       "      <th>worst compactness</th>\n",
       "      <th>worst concavity</th>\n",
       "      <th>worst concave points</th>\n",
       "      <th>worst symmetry</th>\n",
       "      <th>worst fractal dimension</th>\n",
       "      <th>target</th>\n",
       "    </tr>\n",
       "  </thead>\n",
       "  <tbody>\n",
       "    <tr>\n",
       "      <th>0</th>\n",
       "      <td>17.99</td>\n",
       "      <td>10.38</td>\n",
       "      <td>122.80</td>\n",
       "      <td>1001.0</td>\n",
       "      <td>0.11840</td>\n",
       "      <td>0.27760</td>\n",
       "      <td>0.3001</td>\n",
       "      <td>0.14710</td>\n",
       "      <td>0.2419</td>\n",
       "      <td>0.07871</td>\n",
       "      <td>1.0950</td>\n",
       "      <td>0.9053</td>\n",
       "      <td>8.589</td>\n",
       "      <td>153.40</td>\n",
       "      <td>0.006399</td>\n",
       "      <td>0.04904</td>\n",
       "      <td>0.05373</td>\n",
       "      <td>0.01587</td>\n",
       "      <td>0.03003</td>\n",
       "      <td>0.006193</td>\n",
       "      <td>25.38</td>\n",
       "      <td>17.33</td>\n",
       "      <td>184.60</td>\n",
       "      <td>2019.0</td>\n",
       "      <td>0.1622</td>\n",
       "      <td>0.6656</td>\n",
       "      <td>0.7119</td>\n",
       "      <td>0.2654</td>\n",
       "      <td>0.4601</td>\n",
       "      <td>0.11890</td>\n",
       "      <td>0</td>\n",
       "    </tr>\n",
       "    <tr>\n",
       "      <th>1</th>\n",
       "      <td>20.57</td>\n",
       "      <td>17.77</td>\n",
       "      <td>132.90</td>\n",
       "      <td>1326.0</td>\n",
       "      <td>0.08474</td>\n",
       "      <td>0.07864</td>\n",
       "      <td>0.0869</td>\n",
       "      <td>0.07017</td>\n",
       "      <td>0.1812</td>\n",
       "      <td>0.05667</td>\n",
       "      <td>0.5435</td>\n",
       "      <td>0.7339</td>\n",
       "      <td>3.398</td>\n",
       "      <td>74.08</td>\n",
       "      <td>0.005225</td>\n",
       "      <td>0.01308</td>\n",
       "      <td>0.01860</td>\n",
       "      <td>0.01340</td>\n",
       "      <td>0.01389</td>\n",
       "      <td>0.003532</td>\n",
       "      <td>24.99</td>\n",
       "      <td>23.41</td>\n",
       "      <td>158.80</td>\n",
       "      <td>1956.0</td>\n",
       "      <td>0.1238</td>\n",
       "      <td>0.1866</td>\n",
       "      <td>0.2416</td>\n",
       "      <td>0.1860</td>\n",
       "      <td>0.2750</td>\n",
       "      <td>0.08902</td>\n",
       "      <td>0</td>\n",
       "    </tr>\n",
       "    <tr>\n",
       "      <th>2</th>\n",
       "      <td>19.69</td>\n",
       "      <td>21.25</td>\n",
       "      <td>130.00</td>\n",
       "      <td>1203.0</td>\n",
       "      <td>0.10960</td>\n",
       "      <td>0.15990</td>\n",
       "      <td>0.1974</td>\n",
       "      <td>0.12790</td>\n",
       "      <td>0.2069</td>\n",
       "      <td>0.05999</td>\n",
       "      <td>0.7456</td>\n",
       "      <td>0.7869</td>\n",
       "      <td>4.585</td>\n",
       "      <td>94.03</td>\n",
       "      <td>0.006150</td>\n",
       "      <td>0.04006</td>\n",
       "      <td>0.03832</td>\n",
       "      <td>0.02058</td>\n",
       "      <td>0.02250</td>\n",
       "      <td>0.004571</td>\n",
       "      <td>23.57</td>\n",
       "      <td>25.53</td>\n",
       "      <td>152.50</td>\n",
       "      <td>1709.0</td>\n",
       "      <td>0.1444</td>\n",
       "      <td>0.4245</td>\n",
       "      <td>0.4504</td>\n",
       "      <td>0.2430</td>\n",
       "      <td>0.3613</td>\n",
       "      <td>0.08758</td>\n",
       "      <td>0</td>\n",
       "    </tr>\n",
       "    <tr>\n",
       "      <th>3</th>\n",
       "      <td>11.42</td>\n",
       "      <td>20.38</td>\n",
       "      <td>77.58</td>\n",
       "      <td>386.1</td>\n",
       "      <td>0.14250</td>\n",
       "      <td>0.28390</td>\n",
       "      <td>0.2414</td>\n",
       "      <td>0.10520</td>\n",
       "      <td>0.2597</td>\n",
       "      <td>0.09744</td>\n",
       "      <td>0.4956</td>\n",
       "      <td>1.1560</td>\n",
       "      <td>3.445</td>\n",
       "      <td>27.23</td>\n",
       "      <td>0.009110</td>\n",
       "      <td>0.07458</td>\n",
       "      <td>0.05661</td>\n",
       "      <td>0.01867</td>\n",
       "      <td>0.05963</td>\n",
       "      <td>0.009208</td>\n",
       "      <td>14.91</td>\n",
       "      <td>26.50</td>\n",
       "      <td>98.87</td>\n",
       "      <td>567.7</td>\n",
       "      <td>0.2098</td>\n",
       "      <td>0.8663</td>\n",
       "      <td>0.6869</td>\n",
       "      <td>0.2575</td>\n",
       "      <td>0.6638</td>\n",
       "      <td>0.17300</td>\n",
       "      <td>0</td>\n",
       "    </tr>\n",
       "    <tr>\n",
       "      <th>4</th>\n",
       "      <td>20.29</td>\n",
       "      <td>14.34</td>\n",
       "      <td>135.10</td>\n",
       "      <td>1297.0</td>\n",
       "      <td>0.10030</td>\n",
       "      <td>0.13280</td>\n",
       "      <td>0.1980</td>\n",
       "      <td>0.10430</td>\n",
       "      <td>0.1809</td>\n",
       "      <td>0.05883</td>\n",
       "      <td>0.7572</td>\n",
       "      <td>0.7813</td>\n",
       "      <td>5.438</td>\n",
       "      <td>94.44</td>\n",
       "      <td>0.011490</td>\n",
       "      <td>0.02461</td>\n",
       "      <td>0.05688</td>\n",
       "      <td>0.01885</td>\n",
       "      <td>0.01756</td>\n",
       "      <td>0.005115</td>\n",
       "      <td>22.54</td>\n",
       "      <td>16.67</td>\n",
       "      <td>152.20</td>\n",
       "      <td>1575.0</td>\n",
       "      <td>0.1374</td>\n",
       "      <td>0.2050</td>\n",
       "      <td>0.4000</td>\n",
       "      <td>0.1625</td>\n",
       "      <td>0.2364</td>\n",
       "      <td>0.07678</td>\n",
       "      <td>0</td>\n",
       "    </tr>\n",
       "  </tbody>\n",
       "</table>\n",
       "</div>"
      ],
      "text/plain": [
       "   mean radius  mean texture  mean perimeter  mean area  mean smoothness  mean compactness  mean concavity  mean concave points  mean symmetry  mean fractal dimension  radius error  texture error  perimeter error  area error  smoothness error  compactness error  concavity error  concave points error  symmetry error  fractal dimension error  worst radius  worst texture  worst perimeter  worst area  worst smoothness  worst compactness  worst concavity  worst concave points  worst symmetry  worst fractal dimension  target\n",
       "0        17.99         10.38          122.80     1001.0          0.11840           0.27760          0.3001              0.14710         0.2419                 0.07871        1.0950         0.9053            8.589      153.40          0.006399            0.04904          0.05373               0.01587         0.03003                 0.006193         25.38          17.33           184.60      2019.0            0.1622             0.6656           0.7119                0.2654          0.4601                  0.11890       0\n",
       "1        20.57         17.77          132.90     1326.0          0.08474           0.07864          0.0869              0.07017         0.1812                 0.05667        0.5435         0.7339            3.398       74.08          0.005225            0.01308          0.01860               0.01340         0.01389                 0.003532         24.99          23.41           158.80      1956.0            0.1238             0.1866           0.2416                0.1860          0.2750                  0.08902       0\n",
       "2        19.69         21.25          130.00     1203.0          0.10960           0.15990          0.1974              0.12790         0.2069                 0.05999        0.7456         0.7869            4.585       94.03          0.006150            0.04006          0.03832               0.02058         0.02250                 0.004571         23.57          25.53           152.50      1709.0            0.1444             0.4245           0.4504                0.2430          0.3613                  0.08758       0\n",
       "3        11.42         20.38           77.58      386.1          0.14250           0.28390          0.2414              0.10520         0.2597                 0.09744        0.4956         1.1560            3.445       27.23          0.009110            0.07458          0.05661               0.01867         0.05963                 0.009208         14.91          26.50            98.87       567.7            0.2098             0.8663           0.6869                0.2575          0.6638                  0.17300       0\n",
       "4        20.29         14.34          135.10     1297.0          0.10030           0.13280          0.1980              0.10430         0.1809                 0.05883        0.7572         0.7813            5.438       94.44          0.011490            0.02461          0.05688               0.01885         0.01756                 0.005115         22.54          16.67           152.20      1575.0            0.1374             0.2050           0.4000                0.1625          0.2364                  0.07678       0"
      ]
     },
     "execution_count": 7,
     "metadata": {},
     "output_type": "execute_result"
    }
   ],
   "source": [
    "df = pd.DataFrame(data=cancer.data, columns=cancer.feature_names)\n",
    "df[\"target\"] = cancer.target\n",
    "\n",
    "df.head()"
   ]
  },
  {
   "cell_type": "markdown",
   "id": "9a641ffa-0256-4f66-8e30-5ac231fb4fa7",
   "metadata": {},
   "source": [
    "# Scaler\n",
    "We should scale the features becuase it will help the NN to find the patterns easily, it is a best practice in terms of NN.\n",
    "\n",
    "Because all the features are cuantitative, We can scale them all with the standard scaler function in Python."
   ]
  },
  {
   "cell_type": "code",
   "execution_count": 11,
   "id": "0f55f94b-9ac7-4150-86ed-6379c26ab55b",
   "metadata": {},
   "outputs": [
    {
     "data": {
      "text/html": [
       "<div>\n",
       "<style scoped>\n",
       "    .dataframe tbody tr th:only-of-type {\n",
       "        vertical-align: middle;\n",
       "    }\n",
       "\n",
       "    .dataframe tbody tr th {\n",
       "        vertical-align: top;\n",
       "    }\n",
       "\n",
       "    .dataframe thead th {\n",
       "        text-align: right;\n",
       "    }\n",
       "</style>\n",
       "<table border=\"1\" class=\"dataframe\">\n",
       "  <thead>\n",
       "    <tr style=\"text-align: right;\">\n",
       "      <th></th>\n",
       "      <th>mean radius</th>\n",
       "      <th>mean texture</th>\n",
       "      <th>mean perimeter</th>\n",
       "      <th>mean area</th>\n",
       "      <th>mean smoothness</th>\n",
       "      <th>mean compactness</th>\n",
       "      <th>mean concavity</th>\n",
       "      <th>mean concave points</th>\n",
       "      <th>mean symmetry</th>\n",
       "      <th>mean fractal dimension</th>\n",
       "      <th>radius error</th>\n",
       "      <th>texture error</th>\n",
       "      <th>perimeter error</th>\n",
       "      <th>area error</th>\n",
       "      <th>smoothness error</th>\n",
       "      <th>compactness error</th>\n",
       "      <th>concavity error</th>\n",
       "      <th>concave points error</th>\n",
       "      <th>symmetry error</th>\n",
       "      <th>fractal dimension error</th>\n",
       "      <th>worst radius</th>\n",
       "      <th>worst texture</th>\n",
       "      <th>worst perimeter</th>\n",
       "      <th>worst area</th>\n",
       "      <th>worst smoothness</th>\n",
       "      <th>worst compactness</th>\n",
       "      <th>worst concavity</th>\n",
       "      <th>worst concave points</th>\n",
       "      <th>worst symmetry</th>\n",
       "      <th>worst fractal dimension</th>\n",
       "      <th>target</th>\n",
       "    </tr>\n",
       "  </thead>\n",
       "  <tbody>\n",
       "    <tr>\n",
       "      <th>0</th>\n",
       "      <td>1.097064</td>\n",
       "      <td>-2.073335</td>\n",
       "      <td>1.269934</td>\n",
       "      <td>0.984375</td>\n",
       "      <td>1.568466</td>\n",
       "      <td>3.283515</td>\n",
       "      <td>2.652874</td>\n",
       "      <td>2.532475</td>\n",
       "      <td>2.217515</td>\n",
       "      <td>2.255747</td>\n",
       "      <td>2.489734</td>\n",
       "      <td>-0.565265</td>\n",
       "      <td>2.833031</td>\n",
       "      <td>2.487578</td>\n",
       "      <td>-0.214002</td>\n",
       "      <td>1.316862</td>\n",
       "      <td>0.724026</td>\n",
       "      <td>0.660820</td>\n",
       "      <td>1.148757</td>\n",
       "      <td>0.907083</td>\n",
       "      <td>1.886690</td>\n",
       "      <td>-1.359293</td>\n",
       "      <td>2.303601</td>\n",
       "      <td>2.001237</td>\n",
       "      <td>1.307686</td>\n",
       "      <td>2.616665</td>\n",
       "      <td>2.109526</td>\n",
       "      <td>2.296076</td>\n",
       "      <td>2.750622</td>\n",
       "      <td>1.937015</td>\n",
       "      <td>0</td>\n",
       "    </tr>\n",
       "    <tr>\n",
       "      <th>1</th>\n",
       "      <td>1.829821</td>\n",
       "      <td>-0.353632</td>\n",
       "      <td>1.685955</td>\n",
       "      <td>1.908708</td>\n",
       "      <td>-0.826962</td>\n",
       "      <td>-0.487072</td>\n",
       "      <td>-0.023846</td>\n",
       "      <td>0.548144</td>\n",
       "      <td>0.001392</td>\n",
       "      <td>-0.868652</td>\n",
       "      <td>0.499255</td>\n",
       "      <td>-0.876244</td>\n",
       "      <td>0.263327</td>\n",
       "      <td>0.742402</td>\n",
       "      <td>-0.605351</td>\n",
       "      <td>-0.692926</td>\n",
       "      <td>-0.440780</td>\n",
       "      <td>0.260162</td>\n",
       "      <td>-0.805450</td>\n",
       "      <td>-0.099444</td>\n",
       "      <td>1.805927</td>\n",
       "      <td>-0.369203</td>\n",
       "      <td>1.535126</td>\n",
       "      <td>1.890489</td>\n",
       "      <td>-0.375612</td>\n",
       "      <td>-0.430444</td>\n",
       "      <td>-0.146749</td>\n",
       "      <td>1.087084</td>\n",
       "      <td>-0.243890</td>\n",
       "      <td>0.281190</td>\n",
       "      <td>0</td>\n",
       "    </tr>\n",
       "    <tr>\n",
       "      <th>2</th>\n",
       "      <td>1.579888</td>\n",
       "      <td>0.456187</td>\n",
       "      <td>1.566503</td>\n",
       "      <td>1.558884</td>\n",
       "      <td>0.942210</td>\n",
       "      <td>1.052926</td>\n",
       "      <td>1.363478</td>\n",
       "      <td>2.037231</td>\n",
       "      <td>0.939685</td>\n",
       "      <td>-0.398008</td>\n",
       "      <td>1.228676</td>\n",
       "      <td>-0.780083</td>\n",
       "      <td>0.850928</td>\n",
       "      <td>1.181336</td>\n",
       "      <td>-0.297005</td>\n",
       "      <td>0.814974</td>\n",
       "      <td>0.213076</td>\n",
       "      <td>1.424827</td>\n",
       "      <td>0.237036</td>\n",
       "      <td>0.293559</td>\n",
       "      <td>1.511870</td>\n",
       "      <td>-0.023974</td>\n",
       "      <td>1.347475</td>\n",
       "      <td>1.456285</td>\n",
       "      <td>0.527407</td>\n",
       "      <td>1.082932</td>\n",
       "      <td>0.854974</td>\n",
       "      <td>1.955000</td>\n",
       "      <td>1.152255</td>\n",
       "      <td>0.201391</td>\n",
       "      <td>0</td>\n",
       "    </tr>\n",
       "    <tr>\n",
       "      <th>3</th>\n",
       "      <td>-0.768909</td>\n",
       "      <td>0.253732</td>\n",
       "      <td>-0.592687</td>\n",
       "      <td>-0.764464</td>\n",
       "      <td>3.283553</td>\n",
       "      <td>3.402909</td>\n",
       "      <td>1.915897</td>\n",
       "      <td>1.451707</td>\n",
       "      <td>2.867383</td>\n",
       "      <td>4.910919</td>\n",
       "      <td>0.326373</td>\n",
       "      <td>-0.110409</td>\n",
       "      <td>0.286593</td>\n",
       "      <td>-0.288378</td>\n",
       "      <td>0.689702</td>\n",
       "      <td>2.744280</td>\n",
       "      <td>0.819518</td>\n",
       "      <td>1.115007</td>\n",
       "      <td>4.732680</td>\n",
       "      <td>2.047511</td>\n",
       "      <td>-0.281464</td>\n",
       "      <td>0.133984</td>\n",
       "      <td>-0.249939</td>\n",
       "      <td>-0.550021</td>\n",
       "      <td>3.394275</td>\n",
       "      <td>3.893397</td>\n",
       "      <td>1.989588</td>\n",
       "      <td>2.175786</td>\n",
       "      <td>6.046041</td>\n",
       "      <td>4.935010</td>\n",
       "      <td>0</td>\n",
       "    </tr>\n",
       "    <tr>\n",
       "      <th>4</th>\n",
       "      <td>1.750297</td>\n",
       "      <td>-1.151816</td>\n",
       "      <td>1.776573</td>\n",
       "      <td>1.826229</td>\n",
       "      <td>0.280372</td>\n",
       "      <td>0.539340</td>\n",
       "      <td>1.371011</td>\n",
       "      <td>1.428493</td>\n",
       "      <td>-0.009560</td>\n",
       "      <td>-0.562450</td>\n",
       "      <td>1.270543</td>\n",
       "      <td>-0.790244</td>\n",
       "      <td>1.273189</td>\n",
       "      <td>1.190357</td>\n",
       "      <td>1.483067</td>\n",
       "      <td>-0.048520</td>\n",
       "      <td>0.828471</td>\n",
       "      <td>1.144205</td>\n",
       "      <td>-0.361092</td>\n",
       "      <td>0.499328</td>\n",
       "      <td>1.298575</td>\n",
       "      <td>-1.466770</td>\n",
       "      <td>1.338539</td>\n",
       "      <td>1.220724</td>\n",
       "      <td>0.220556</td>\n",
       "      <td>-0.313395</td>\n",
       "      <td>0.613179</td>\n",
       "      <td>0.729259</td>\n",
       "      <td>-0.868353</td>\n",
       "      <td>-0.397100</td>\n",
       "      <td>0</td>\n",
       "    </tr>\n",
       "  </tbody>\n",
       "</table>\n",
       "</div>"
      ],
      "text/plain": [
       "   mean radius  mean texture  mean perimeter  mean area  mean smoothness  mean compactness  mean concavity  mean concave points  mean symmetry  mean fractal dimension  radius error  texture error  perimeter error  area error  smoothness error  compactness error  concavity error  concave points error  symmetry error  fractal dimension error  worst radius  worst texture  worst perimeter  worst area  worst smoothness  worst compactness  worst concavity  worst concave points  worst symmetry  worst fractal dimension  target\n",
       "0     1.097064     -2.073335        1.269934   0.984375         1.568466          3.283515        2.652874             2.532475       2.217515                2.255747      2.489734      -0.565265         2.833031    2.487578         -0.214002           1.316862         0.724026              0.660820        1.148757                 0.907083      1.886690      -1.359293         2.303601    2.001237          1.307686           2.616665         2.109526              2.296076        2.750622                 1.937015       0\n",
       "1     1.829821     -0.353632        1.685955   1.908708        -0.826962         -0.487072       -0.023846             0.548144       0.001392               -0.868652      0.499255      -0.876244         0.263327    0.742402         -0.605351          -0.692926        -0.440780              0.260162       -0.805450                -0.099444      1.805927      -0.369203         1.535126    1.890489         -0.375612          -0.430444        -0.146749              1.087084       -0.243890                 0.281190       0\n",
       "2     1.579888      0.456187        1.566503   1.558884         0.942210          1.052926        1.363478             2.037231       0.939685               -0.398008      1.228676      -0.780083         0.850928    1.181336         -0.297005           0.814974         0.213076              1.424827        0.237036                 0.293559      1.511870      -0.023974         1.347475    1.456285          0.527407           1.082932         0.854974              1.955000        1.152255                 0.201391       0\n",
       "3    -0.768909      0.253732       -0.592687  -0.764464         3.283553          3.402909        1.915897             1.451707       2.867383                4.910919      0.326373      -0.110409         0.286593   -0.288378          0.689702           2.744280         0.819518              1.115007        4.732680                 2.047511     -0.281464       0.133984        -0.249939   -0.550021          3.394275           3.893397         1.989588              2.175786        6.046041                 4.935010       0\n",
       "4     1.750297     -1.151816        1.776573   1.826229         0.280372          0.539340        1.371011             1.428493      -0.009560               -0.562450      1.270543      -0.790244         1.273189    1.190357          1.483067          -0.048520         0.828471              1.144205       -0.361092                 0.499328      1.298575      -1.466770         1.338539    1.220724          0.220556          -0.313395         0.613179              0.729259       -0.868353                -0.397100       0"
      ]
     },
     "execution_count": 11,
     "metadata": {},
     "output_type": "execute_result"
    }
   ],
   "source": [
    "# Selecting the columns to scale\n",
    "columns_to_scale = cancer.feature_names\n",
    "\n",
    "# Instantiating the scaler\n",
    "scaler = StandardScaler()\n",
    "\n",
    "# Converting the distribuion of each feature to mean=0 and std=1\n",
    "df[columns_to_scale] = scaler.fit_transform(df[columns_to_scale])\n",
    "\n",
    "# Checking the first 5 records of the data after scaling\n",
    "df.head()"
   ]
  },
  {
   "cell_type": "code",
   "execution_count": 12,
   "id": "7b6c7196-f354-49f4-89eb-9ceab3abfce9",
   "metadata": {},
   "outputs": [
    {
     "data": {
      "text/html": [
       "<div>\n",
       "<style scoped>\n",
       "    .dataframe tbody tr th:only-of-type {\n",
       "        vertical-align: middle;\n",
       "    }\n",
       "\n",
       "    .dataframe tbody tr th {\n",
       "        vertical-align: top;\n",
       "    }\n",
       "\n",
       "    .dataframe thead th {\n",
       "        text-align: right;\n",
       "    }\n",
       "</style>\n",
       "<table border=\"1\" class=\"dataframe\">\n",
       "  <thead>\n",
       "    <tr style=\"text-align: right;\">\n",
       "      <th></th>\n",
       "      <th>mean radius</th>\n",
       "      <th>mean texture</th>\n",
       "      <th>mean perimeter</th>\n",
       "      <th>mean area</th>\n",
       "      <th>mean smoothness</th>\n",
       "      <th>mean compactness</th>\n",
       "      <th>mean concavity</th>\n",
       "      <th>mean concave points</th>\n",
       "      <th>mean symmetry</th>\n",
       "      <th>mean fractal dimension</th>\n",
       "      <th>radius error</th>\n",
       "      <th>texture error</th>\n",
       "      <th>perimeter error</th>\n",
       "      <th>area error</th>\n",
       "      <th>smoothness error</th>\n",
       "      <th>compactness error</th>\n",
       "      <th>concavity error</th>\n",
       "      <th>concave points error</th>\n",
       "      <th>symmetry error</th>\n",
       "      <th>fractal dimension error</th>\n",
       "      <th>worst radius</th>\n",
       "      <th>worst texture</th>\n",
       "      <th>worst perimeter</th>\n",
       "      <th>worst area</th>\n",
       "      <th>worst smoothness</th>\n",
       "      <th>worst compactness</th>\n",
       "      <th>worst concavity</th>\n",
       "      <th>worst concave points</th>\n",
       "      <th>worst symmetry</th>\n",
       "      <th>worst fractal dimension</th>\n",
       "      <th>target</th>\n",
       "    </tr>\n",
       "  </thead>\n",
       "  <tbody>\n",
       "    <tr>\n",
       "      <th>count</th>\n",
       "      <td>5.690000e+02</td>\n",
       "      <td>5.690000e+02</td>\n",
       "      <td>5.690000e+02</td>\n",
       "      <td>5.690000e+02</td>\n",
       "      <td>5.690000e+02</td>\n",
       "      <td>5.690000e+02</td>\n",
       "      <td>5.690000e+02</td>\n",
       "      <td>5.690000e+02</td>\n",
       "      <td>5.690000e+02</td>\n",
       "      <td>5.690000e+02</td>\n",
       "      <td>5.690000e+02</td>\n",
       "      <td>5.690000e+02</td>\n",
       "      <td>5.690000e+02</td>\n",
       "      <td>5.690000e+02</td>\n",
       "      <td>5.690000e+02</td>\n",
       "      <td>5.690000e+02</td>\n",
       "      <td>5.690000e+02</td>\n",
       "      <td>5.690000e+02</td>\n",
       "      <td>5.690000e+02</td>\n",
       "      <td>5.690000e+02</td>\n",
       "      <td>5.690000e+02</td>\n",
       "      <td>5.690000e+02</td>\n",
       "      <td>5.690000e+02</td>\n",
       "      <td>5.690000e+02</td>\n",
       "      <td>5.690000e+02</td>\n",
       "      <td>5.690000e+02</td>\n",
       "      <td>5.690000e+02</td>\n",
       "      <td>5.690000e+02</td>\n",
       "      <td>5.690000e+02</td>\n",
       "      <td>5.690000e+02</td>\n",
       "      <td>569.000000</td>\n",
       "    </tr>\n",
       "    <tr>\n",
       "      <th>mean</th>\n",
       "      <td>-3.153111e-15</td>\n",
       "      <td>-6.568462e-15</td>\n",
       "      <td>-6.993039e-16</td>\n",
       "      <td>-8.553985e-16</td>\n",
       "      <td>6.081447e-15</td>\n",
       "      <td>-1.136369e-15</td>\n",
       "      <td>-2.997017e-16</td>\n",
       "      <td>1.023981e-15</td>\n",
       "      <td>-1.860648e-15</td>\n",
       "      <td>-1.504752e-15</td>\n",
       "      <td>-9.740305e-16</td>\n",
       "      <td>-9.084707e-16</td>\n",
       "      <td>1.860648e-15</td>\n",
       "      <td>-7.679856e-16</td>\n",
       "      <td>-7.352057e-16</td>\n",
       "      <td>-3.996022e-16</td>\n",
       "      <td>8.553985e-16</td>\n",
       "      <td>-2.684828e-16</td>\n",
       "      <td>-3.371644e-16</td>\n",
       "      <td>-3.059455e-16</td>\n",
       "      <td>-2.297713e-15</td>\n",
       "      <td>1.742016e-15</td>\n",
       "      <td>-1.198807e-15</td>\n",
       "      <td>6.118909e-16</td>\n",
       "      <td>-5.094929e-15</td>\n",
       "      <td>-2.122887e-15</td>\n",
       "      <td>6.118909e-16</td>\n",
       "      <td>-1.998011e-16</td>\n",
       "      <td>-2.422589e-15</td>\n",
       "      <td>2.497514e-15</td>\n",
       "      <td>0.627417</td>\n",
       "    </tr>\n",
       "    <tr>\n",
       "      <th>std</th>\n",
       "      <td>1.000880e+00</td>\n",
       "      <td>1.000880e+00</td>\n",
       "      <td>1.000880e+00</td>\n",
       "      <td>1.000880e+00</td>\n",
       "      <td>1.000880e+00</td>\n",
       "      <td>1.000880e+00</td>\n",
       "      <td>1.000880e+00</td>\n",
       "      <td>1.000880e+00</td>\n",
       "      <td>1.000880e+00</td>\n",
       "      <td>1.000880e+00</td>\n",
       "      <td>1.000880e+00</td>\n",
       "      <td>1.000880e+00</td>\n",
       "      <td>1.000880e+00</td>\n",
       "      <td>1.000880e+00</td>\n",
       "      <td>1.000880e+00</td>\n",
       "      <td>1.000880e+00</td>\n",
       "      <td>1.000880e+00</td>\n",
       "      <td>1.000880e+00</td>\n",
       "      <td>1.000880e+00</td>\n",
       "      <td>1.000880e+00</td>\n",
       "      <td>1.000880e+00</td>\n",
       "      <td>1.000880e+00</td>\n",
       "      <td>1.000880e+00</td>\n",
       "      <td>1.000880e+00</td>\n",
       "      <td>1.000880e+00</td>\n",
       "      <td>1.000880e+00</td>\n",
       "      <td>1.000880e+00</td>\n",
       "      <td>1.000880e+00</td>\n",
       "      <td>1.000880e+00</td>\n",
       "      <td>1.000880e+00</td>\n",
       "      <td>0.483918</td>\n",
       "    </tr>\n",
       "    <tr>\n",
       "      <th>min</th>\n",
       "      <td>-2.029648e+00</td>\n",
       "      <td>-2.229249e+00</td>\n",
       "      <td>-1.984504e+00</td>\n",
       "      <td>-1.454443e+00</td>\n",
       "      <td>-3.112085e+00</td>\n",
       "      <td>-1.610136e+00</td>\n",
       "      <td>-1.114873e+00</td>\n",
       "      <td>-1.261820e+00</td>\n",
       "      <td>-2.744117e+00</td>\n",
       "      <td>-1.819865e+00</td>\n",
       "      <td>-1.059924e+00</td>\n",
       "      <td>-1.554264e+00</td>\n",
       "      <td>-1.044049e+00</td>\n",
       "      <td>-7.378291e-01</td>\n",
       "      <td>-1.776065e+00</td>\n",
       "      <td>-1.298098e+00</td>\n",
       "      <td>-1.057501e+00</td>\n",
       "      <td>-1.913447e+00</td>\n",
       "      <td>-1.532890e+00</td>\n",
       "      <td>-1.096968e+00</td>\n",
       "      <td>-1.726901e+00</td>\n",
       "      <td>-2.223994e+00</td>\n",
       "      <td>-1.693361e+00</td>\n",
       "      <td>-1.222423e+00</td>\n",
       "      <td>-2.682695e+00</td>\n",
       "      <td>-1.443878e+00</td>\n",
       "      <td>-1.305831e+00</td>\n",
       "      <td>-1.745063e+00</td>\n",
       "      <td>-2.160960e+00</td>\n",
       "      <td>-1.601839e+00</td>\n",
       "      <td>0.000000</td>\n",
       "    </tr>\n",
       "    <tr>\n",
       "      <th>25%</th>\n",
       "      <td>-6.893853e-01</td>\n",
       "      <td>-7.259631e-01</td>\n",
       "      <td>-6.919555e-01</td>\n",
       "      <td>-6.671955e-01</td>\n",
       "      <td>-7.109628e-01</td>\n",
       "      <td>-7.470860e-01</td>\n",
       "      <td>-7.437479e-01</td>\n",
       "      <td>-7.379438e-01</td>\n",
       "      <td>-7.032397e-01</td>\n",
       "      <td>-7.226392e-01</td>\n",
       "      <td>-6.235706e-01</td>\n",
       "      <td>-6.948092e-01</td>\n",
       "      <td>-6.237679e-01</td>\n",
       "      <td>-4.947542e-01</td>\n",
       "      <td>-6.240183e-01</td>\n",
       "      <td>-6.929263e-01</td>\n",
       "      <td>-5.571612e-01</td>\n",
       "      <td>-6.744900e-01</td>\n",
       "      <td>-6.516807e-01</td>\n",
       "      <td>-5.851185e-01</td>\n",
       "      <td>-6.749213e-01</td>\n",
       "      <td>-7.486293e-01</td>\n",
       "      <td>-6.895783e-01</td>\n",
       "      <td>-6.421359e-01</td>\n",
       "      <td>-6.912304e-01</td>\n",
       "      <td>-6.810833e-01</td>\n",
       "      <td>-7.565142e-01</td>\n",
       "      <td>-7.563999e-01</td>\n",
       "      <td>-6.418637e-01</td>\n",
       "      <td>-6.919118e-01</td>\n",
       "      <td>0.000000</td>\n",
       "    </tr>\n",
       "    <tr>\n",
       "      <th>50%</th>\n",
       "      <td>-2.150816e-01</td>\n",
       "      <td>-1.046362e-01</td>\n",
       "      <td>-2.359800e-01</td>\n",
       "      <td>-2.951869e-01</td>\n",
       "      <td>-3.489108e-02</td>\n",
       "      <td>-2.219405e-01</td>\n",
       "      <td>-3.422399e-01</td>\n",
       "      <td>-3.977212e-01</td>\n",
       "      <td>-7.162650e-02</td>\n",
       "      <td>-1.782793e-01</td>\n",
       "      <td>-2.922452e-01</td>\n",
       "      <td>-1.974976e-01</td>\n",
       "      <td>-2.866520e-01</td>\n",
       "      <td>-3.477828e-01</td>\n",
       "      <td>-2.203352e-01</td>\n",
       "      <td>-2.810204e-01</td>\n",
       "      <td>-1.990654e-01</td>\n",
       "      <td>-1.404958e-01</td>\n",
       "      <td>-2.194304e-01</td>\n",
       "      <td>-2.299405e-01</td>\n",
       "      <td>-2.690395e-01</td>\n",
       "      <td>-4.351564e-02</td>\n",
       "      <td>-2.859802e-01</td>\n",
       "      <td>-3.411812e-01</td>\n",
       "      <td>-4.684277e-02</td>\n",
       "      <td>-2.695009e-01</td>\n",
       "      <td>-2.182321e-01</td>\n",
       "      <td>-2.234689e-01</td>\n",
       "      <td>-1.274095e-01</td>\n",
       "      <td>-2.164441e-01</td>\n",
       "      <td>1.000000</td>\n",
       "    </tr>\n",
       "    <tr>\n",
       "      <th>75%</th>\n",
       "      <td>4.693926e-01</td>\n",
       "      <td>5.841756e-01</td>\n",
       "      <td>4.996769e-01</td>\n",
       "      <td>3.635073e-01</td>\n",
       "      <td>6.361990e-01</td>\n",
       "      <td>4.938569e-01</td>\n",
       "      <td>5.260619e-01</td>\n",
       "      <td>6.469351e-01</td>\n",
       "      <td>5.307792e-01</td>\n",
       "      <td>4.709834e-01</td>\n",
       "      <td>2.660996e-01</td>\n",
       "      <td>4.665523e-01</td>\n",
       "      <td>2.430307e-01</td>\n",
       "      <td>1.067726e-01</td>\n",
       "      <td>3.683553e-01</td>\n",
       "      <td>3.896541e-01</td>\n",
       "      <td>3.367521e-01</td>\n",
       "      <td>4.726567e-01</td>\n",
       "      <td>3.556925e-01</td>\n",
       "      <td>2.886421e-01</td>\n",
       "      <td>5.220158e-01</td>\n",
       "      <td>6.583411e-01</td>\n",
       "      <td>5.402790e-01</td>\n",
       "      <td>3.575891e-01</td>\n",
       "      <td>5.975448e-01</td>\n",
       "      <td>5.396688e-01</td>\n",
       "      <td>5.311411e-01</td>\n",
       "      <td>7.125100e-01</td>\n",
       "      <td>4.501382e-01</td>\n",
       "      <td>4.507624e-01</td>\n",
       "      <td>1.000000</td>\n",
       "    </tr>\n",
       "    <tr>\n",
       "      <th>max</th>\n",
       "      <td>3.971288e+00</td>\n",
       "      <td>4.651889e+00</td>\n",
       "      <td>3.976130e+00</td>\n",
       "      <td>5.250529e+00</td>\n",
       "      <td>4.770911e+00</td>\n",
       "      <td>4.568425e+00</td>\n",
       "      <td>4.243589e+00</td>\n",
       "      <td>3.927930e+00</td>\n",
       "      <td>4.484751e+00</td>\n",
       "      <td>4.910919e+00</td>\n",
       "      <td>8.906909e+00</td>\n",
       "      <td>6.655279e+00</td>\n",
       "      <td>9.461986e+00</td>\n",
       "      <td>1.104184e+01</td>\n",
       "      <td>8.029999e+00</td>\n",
       "      <td>6.143482e+00</td>\n",
       "      <td>1.207268e+01</td>\n",
       "      <td>6.649601e+00</td>\n",
       "      <td>7.071917e+00</td>\n",
       "      <td>9.851593e+00</td>\n",
       "      <td>4.094189e+00</td>\n",
       "      <td>3.885905e+00</td>\n",
       "      <td>4.287337e+00</td>\n",
       "      <td>5.930172e+00</td>\n",
       "      <td>3.955374e+00</td>\n",
       "      <td>5.112877e+00</td>\n",
       "      <td>4.700669e+00</td>\n",
       "      <td>2.685877e+00</td>\n",
       "      <td>6.046041e+00</td>\n",
       "      <td>6.846856e+00</td>\n",
       "      <td>1.000000</td>\n",
       "    </tr>\n",
       "  </tbody>\n",
       "</table>\n",
       "</div>"
      ],
      "text/plain": [
       "        mean radius  mean texture  mean perimeter     mean area  mean smoothness  mean compactness  mean concavity  mean concave points  mean symmetry  mean fractal dimension  radius error  texture error  perimeter error    area error  smoothness error  compactness error  concavity error  concave points error  symmetry error  fractal dimension error  worst radius  worst texture  worst perimeter    worst area  worst smoothness  worst compactness  worst concavity  worst concave points  worst symmetry  worst fractal dimension      target\n",
       "count  5.690000e+02  5.690000e+02    5.690000e+02  5.690000e+02     5.690000e+02      5.690000e+02    5.690000e+02         5.690000e+02   5.690000e+02            5.690000e+02  5.690000e+02   5.690000e+02     5.690000e+02  5.690000e+02      5.690000e+02       5.690000e+02     5.690000e+02          5.690000e+02    5.690000e+02             5.690000e+02  5.690000e+02   5.690000e+02     5.690000e+02  5.690000e+02      5.690000e+02       5.690000e+02     5.690000e+02          5.690000e+02    5.690000e+02             5.690000e+02  569.000000\n",
       "mean  -3.153111e-15 -6.568462e-15   -6.993039e-16 -8.553985e-16     6.081447e-15     -1.136369e-15   -2.997017e-16         1.023981e-15  -1.860648e-15           -1.504752e-15 -9.740305e-16  -9.084707e-16     1.860648e-15 -7.679856e-16     -7.352057e-16      -3.996022e-16     8.553985e-16         -2.684828e-16   -3.371644e-16            -3.059455e-16 -2.297713e-15   1.742016e-15    -1.198807e-15  6.118909e-16     -5.094929e-15      -2.122887e-15     6.118909e-16         -1.998011e-16   -2.422589e-15             2.497514e-15    0.627417\n",
       "std    1.000880e+00  1.000880e+00    1.000880e+00  1.000880e+00     1.000880e+00      1.000880e+00    1.000880e+00         1.000880e+00   1.000880e+00            1.000880e+00  1.000880e+00   1.000880e+00     1.000880e+00  1.000880e+00      1.000880e+00       1.000880e+00     1.000880e+00          1.000880e+00    1.000880e+00             1.000880e+00  1.000880e+00   1.000880e+00     1.000880e+00  1.000880e+00      1.000880e+00       1.000880e+00     1.000880e+00          1.000880e+00    1.000880e+00             1.000880e+00    0.483918\n",
       "min   -2.029648e+00 -2.229249e+00   -1.984504e+00 -1.454443e+00    -3.112085e+00     -1.610136e+00   -1.114873e+00        -1.261820e+00  -2.744117e+00           -1.819865e+00 -1.059924e+00  -1.554264e+00    -1.044049e+00 -7.378291e-01     -1.776065e+00      -1.298098e+00    -1.057501e+00         -1.913447e+00   -1.532890e+00            -1.096968e+00 -1.726901e+00  -2.223994e+00    -1.693361e+00 -1.222423e+00     -2.682695e+00      -1.443878e+00    -1.305831e+00         -1.745063e+00   -2.160960e+00            -1.601839e+00    0.000000\n",
       "25%   -6.893853e-01 -7.259631e-01   -6.919555e-01 -6.671955e-01    -7.109628e-01     -7.470860e-01   -7.437479e-01        -7.379438e-01  -7.032397e-01           -7.226392e-01 -6.235706e-01  -6.948092e-01    -6.237679e-01 -4.947542e-01     -6.240183e-01      -6.929263e-01    -5.571612e-01         -6.744900e-01   -6.516807e-01            -5.851185e-01 -6.749213e-01  -7.486293e-01    -6.895783e-01 -6.421359e-01     -6.912304e-01      -6.810833e-01    -7.565142e-01         -7.563999e-01   -6.418637e-01            -6.919118e-01    0.000000\n",
       "50%   -2.150816e-01 -1.046362e-01   -2.359800e-01 -2.951869e-01    -3.489108e-02     -2.219405e-01   -3.422399e-01        -3.977212e-01  -7.162650e-02           -1.782793e-01 -2.922452e-01  -1.974976e-01    -2.866520e-01 -3.477828e-01     -2.203352e-01      -2.810204e-01    -1.990654e-01         -1.404958e-01   -2.194304e-01            -2.299405e-01 -2.690395e-01  -4.351564e-02    -2.859802e-01 -3.411812e-01     -4.684277e-02      -2.695009e-01    -2.182321e-01         -2.234689e-01   -1.274095e-01            -2.164441e-01    1.000000\n",
       "75%    4.693926e-01  5.841756e-01    4.996769e-01  3.635073e-01     6.361990e-01      4.938569e-01    5.260619e-01         6.469351e-01   5.307792e-01            4.709834e-01  2.660996e-01   4.665523e-01     2.430307e-01  1.067726e-01      3.683553e-01       3.896541e-01     3.367521e-01          4.726567e-01    3.556925e-01             2.886421e-01  5.220158e-01   6.583411e-01     5.402790e-01  3.575891e-01      5.975448e-01       5.396688e-01     5.311411e-01          7.125100e-01    4.501382e-01             4.507624e-01    1.000000\n",
       "max    3.971288e+00  4.651889e+00    3.976130e+00  5.250529e+00     4.770911e+00      4.568425e+00    4.243589e+00         3.927930e+00   4.484751e+00            4.910919e+00  8.906909e+00   6.655279e+00     9.461986e+00  1.104184e+01      8.029999e+00       6.143482e+00     1.207268e+01          6.649601e+00    7.071917e+00             9.851593e+00  4.094189e+00   3.885905e+00     4.287337e+00  5.930172e+00      3.955374e+00       5.112877e+00     4.700669e+00          2.685877e+00    6.046041e+00             6.846856e+00    1.000000"
      ]
     },
     "execution_count": 12,
     "metadata": {},
     "output_type": "execute_result"
    }
   ],
   "source": [
    "df.describe()"
   ]
  },
  {
   "cell_type": "markdown",
   "id": "f7412af0-88e7-4e1c-b910-d3423cf7f5c7",
   "metadata": {},
   "source": [
    "# Data Split"
   ]
  },
  {
   "cell_type": "code",
   "execution_count": 13,
   "id": "f0f3d943-2962-40e2-ab76-4df4f748e27a",
   "metadata": {},
   "outputs": [
    {
     "name": "stdout",
     "output_type": "stream",
     "text": [
      "Train features shape: (398, 30), Train target shape: (398,)\n",
      "Test features shape: (171, 30), Test target shape: (171,)\n"
     ]
    }
   ],
   "source": [
    "X = df.drop(columns=[\"target\"])\n",
    "y = df[\"target\"]\n",
    "\n",
    "X_train, X_test, y_train, y_test = train_test_split(X, y, test_size=0.3, random_state=42)\n",
    "\n",
    "print(f\"Train features shape: {X_train.shape}, Train target shape: {y_train.shape}\")\n",
    "print(f\"Test features shape: {X_test.shape}, Test target shape: {y_test.shape}\")"
   ]
  },
  {
   "cell_type": "markdown",
   "id": "a384756c-741b-44c2-ad01-c5d299b9ff98",
   "metadata": {},
   "source": [
    "# Training Phase"
   ]
  },
  {
   "cell_type": "code",
   "execution_count": 36,
   "id": "0d02200f-65cc-44f2-a070-77c35ba42875",
   "metadata": {
    "scrolled": true,
    "tags": []
   },
   "outputs": [
    {
     "name": "stdout",
     "output_type": "stream",
     "text": [
      "Iteration 1, loss = 0.93341969\n",
      "Validation score: 0.375000\n",
      "Iteration 2, loss = 0.90785185\n",
      "Validation score: 0.375000\n",
      "Iteration 3, loss = 0.88357707\n",
      "Validation score: 0.375000\n",
      "Iteration 4, loss = 0.86017165\n",
      "Validation score: 0.375000\n",
      "Iteration 5, loss = 0.83719611\n",
      "Validation score: 0.375000\n",
      "Iteration 6, loss = 0.81579788\n",
      "Validation score: 0.375000\n",
      "Iteration 7, loss = 0.79470435\n",
      "Validation score: 0.375000\n",
      "Iteration 8, loss = 0.77432628\n",
      "Validation score: 0.375000\n",
      "Iteration 9, loss = 0.75479817\n",
      "Validation score: 0.400000\n",
      "Iteration 10, loss = 0.73538193\n",
      "Validation score: 0.425000\n",
      "Iteration 11, loss = 0.71743546\n",
      "Validation score: 0.450000\n",
      "Iteration 12, loss = 0.69873382\n",
      "Validation score: 0.500000\n",
      "Iteration 13, loss = 0.68080219\n",
      "Validation score: 0.575000\n",
      "Iteration 14, loss = 0.66250487\n",
      "Validation score: 0.625000\n",
      "Iteration 15, loss = 0.64506955\n",
      "Validation score: 0.650000\n",
      "Iteration 16, loss = 0.62782579\n",
      "Validation score: 0.675000\n",
      "Iteration 17, loss = 0.61012636\n",
      "Validation score: 0.700000\n",
      "Iteration 18, loss = 0.59324557\n",
      "Validation score: 0.750000\n",
      "Iteration 19, loss = 0.57599048\n",
      "Validation score: 0.775000\n",
      "Iteration 20, loss = 0.55848587\n",
      "Validation score: 0.800000\n",
      "Iteration 21, loss = 0.54196006\n",
      "Validation score: 0.800000\n",
      "Iteration 22, loss = 0.52475044\n",
      "Validation score: 0.825000\n",
      "Iteration 23, loss = 0.50848418\n",
      "Validation score: 0.875000\n",
      "Iteration 24, loss = 0.49209871\n",
      "Validation score: 0.875000\n",
      "Iteration 25, loss = 0.47605139\n",
      "Validation score: 0.875000\n",
      "Iteration 26, loss = 0.46003450\n",
      "Validation score: 0.875000\n",
      "Iteration 27, loss = 0.44462726\n",
      "Validation score: 0.875000\n",
      "Iteration 28, loss = 0.42956537\n",
      "Validation score: 0.875000\n",
      "Iteration 29, loss = 0.41417845\n",
      "Validation score: 0.900000\n",
      "Iteration 30, loss = 0.39945607\n",
      "Validation score: 0.900000\n",
      "Iteration 31, loss = 0.38548940\n",
      "Validation score: 0.900000\n",
      "Iteration 32, loss = 0.37197056\n",
      "Validation score: 0.900000\n",
      "Iteration 33, loss = 0.35868762\n",
      "Validation score: 0.900000\n",
      "Iteration 34, loss = 0.34609976\n",
      "Validation score: 0.925000\n",
      "Iteration 35, loss = 0.33385903\n",
      "Validation score: 0.925000\n",
      "Iteration 36, loss = 0.32209182\n",
      "Validation score: 0.925000\n",
      "Iteration 37, loss = 0.31112320\n",
      "Validation score: 0.925000\n",
      "Iteration 38, loss = 0.30022481\n",
      "Validation score: 0.925000\n",
      "Iteration 39, loss = 0.28985184\n",
      "Validation score: 0.925000\n",
      "Iteration 40, loss = 0.27979220\n",
      "Validation score: 0.925000\n",
      "Iteration 41, loss = 0.27035196\n",
      "Validation score: 0.925000\n",
      "Iteration 42, loss = 0.26131010\n",
      "Validation score: 0.925000\n",
      "Iteration 43, loss = 0.25240782\n",
      "Validation score: 0.925000\n",
      "Iteration 44, loss = 0.24448054\n",
      "Validation score: 0.925000\n",
      "Iteration 45, loss = 0.23670794\n",
      "Validation score: 0.925000\n",
      "Iteration 46, loss = 0.22904877\n",
      "Validation score: 0.925000\n",
      "Iteration 47, loss = 0.22210362\n",
      "Validation score: 0.950000\n",
      "Iteration 48, loss = 0.21537048\n",
      "Validation score: 0.950000\n",
      "Iteration 49, loss = 0.20898239\n",
      "Validation score: 0.950000\n",
      "Iteration 50, loss = 0.20287337\n",
      "Validation score: 0.950000\n",
      "Iteration 51, loss = 0.19728752\n",
      "Validation score: 0.950000\n",
      "Iteration 52, loss = 0.19154436\n",
      "Validation score: 0.950000\n",
      "Iteration 53, loss = 0.18631905\n",
      "Validation score: 0.950000\n",
      "Iteration 54, loss = 0.18155639\n",
      "Validation score: 0.950000\n",
      "Iteration 55, loss = 0.17695242\n",
      "Validation score: 0.950000\n",
      "Iteration 56, loss = 0.17243920\n",
      "Validation score: 0.950000\n",
      "Iteration 57, loss = 0.16813201\n",
      "Validation score: 0.950000\n",
      "Iteration 58, loss = 0.16423713\n",
      "Validation score: 0.950000\n",
      "Iteration 59, loss = 0.16030475\n",
      "Validation score: 0.950000\n",
      "Iteration 60, loss = 0.15660693\n",
      "Validation score: 0.950000\n",
      "Iteration 61, loss = 0.15312589\n",
      "Validation score: 0.950000\n",
      "Iteration 62, loss = 0.15010414\n",
      "Validation score: 0.950000\n",
      "Iteration 63, loss = 0.14672404\n",
      "Validation score: 0.950000\n",
      "Iteration 64, loss = 0.14365149\n",
      "Validation score: 0.950000\n",
      "Iteration 65, loss = 0.14093715\n",
      "Validation score: 0.950000\n",
      "Iteration 66, loss = 0.13813634\n",
      "Validation score: 0.950000\n",
      "Iteration 67, loss = 0.13548554\n",
      "Validation score: 0.950000\n",
      "Iteration 68, loss = 0.13301231\n",
      "Validation score: 0.950000\n",
      "Iteration 69, loss = 0.13067646\n",
      "Validation score: 0.950000\n",
      "Iteration 70, loss = 0.12835187\n",
      "Validation score: 0.950000\n",
      "Iteration 71, loss = 0.12603736\n",
      "Validation score: 0.950000\n",
      "Iteration 72, loss = 0.12383146\n",
      "Validation score: 0.950000\n",
      "Iteration 73, loss = 0.12177784\n",
      "Validation score: 0.950000\n",
      "Iteration 74, loss = 0.11977314\n",
      "Validation score: 0.950000\n",
      "Iteration 75, loss = 0.11767446\n",
      "Validation score: 0.950000\n",
      "Iteration 76, loss = 0.11572401\n",
      "Validation score: 0.950000\n",
      "Iteration 77, loss = 0.11378840\n",
      "Validation score: 0.950000\n",
      "Iteration 78, loss = 0.11193974\n",
      "Validation score: 0.950000\n",
      "Iteration 79, loss = 0.11000142\n",
      "Validation score: 0.950000\n",
      "Iteration 80, loss = 0.10824464\n",
      "Validation score: 0.950000\n",
      "Iteration 81, loss = 0.10653865\n",
      "Validation score: 0.950000\n",
      "Iteration 82, loss = 0.10485970\n",
      "Validation score: 0.950000\n",
      "Iteration 83, loss = 0.10338599\n",
      "Validation score: 0.950000\n",
      "Iteration 84, loss = 0.10179551\n",
      "Validation score: 0.950000\n",
      "Iteration 85, loss = 0.10031136\n",
      "Validation score: 0.950000\n",
      "Iteration 86, loss = 0.09884589\n",
      "Validation score: 0.950000\n",
      "Iteration 87, loss = 0.09735285\n",
      "Validation score: 0.950000\n",
      "Iteration 88, loss = 0.09601222\n",
      "Validation score: 0.950000\n",
      "Iteration 89, loss = 0.09473670\n",
      "Validation score: 0.950000\n",
      "Iteration 90, loss = 0.09341183\n",
      "Validation score: 0.950000\n",
      "Iteration 91, loss = 0.09222937\n",
      "Validation score: 0.950000\n",
      "Iteration 92, loss = 0.09096422\n",
      "Validation score: 0.950000\n",
      "Iteration 93, loss = 0.08984550\n",
      "Validation score: 0.950000\n",
      "Iteration 94, loss = 0.08870983\n",
      "Validation score: 0.950000\n",
      "Iteration 95, loss = 0.08755785\n",
      "Validation score: 0.950000\n",
      "Iteration 96, loss = 0.08642935\n",
      "Validation score: 0.950000\n",
      "Iteration 97, loss = 0.08541575\n",
      "Validation score: 0.950000\n",
      "Iteration 98, loss = 0.08441287\n",
      "Validation score: 0.950000\n",
      "Iteration 99, loss = 0.08342746\n",
      "Validation score: 0.950000\n",
      "Iteration 100, loss = 0.08249128\n",
      "Validation score: 0.950000\n",
      "Iteration 101, loss = 0.08151749\n",
      "Validation score: 0.950000\n",
      "Iteration 102, loss = 0.08060789\n",
      "Validation score: 0.950000\n",
      "Iteration 103, loss = 0.07971415\n",
      "Validation score: 0.950000\n",
      "Iteration 104, loss = 0.07885469\n",
      "Validation score: 0.950000\n",
      "Iteration 105, loss = 0.07801075\n",
      "Validation score: 0.950000\n",
      "Iteration 106, loss = 0.07720827\n",
      "Validation score: 0.950000\n",
      "Iteration 107, loss = 0.07640343\n",
      "Validation score: 0.950000\n",
      "Iteration 108, loss = 0.07567759\n",
      "Validation score: 0.950000\n",
      "Iteration 109, loss = 0.07487130\n",
      "Validation score: 0.950000\n",
      "Iteration 110, loss = 0.07412823\n",
      "Validation score: 0.950000\n",
      "Iteration 111, loss = 0.07342558\n",
      "Validation score: 0.950000\n",
      "Iteration 112, loss = 0.07272198\n",
      "Validation score: 0.950000\n",
      "Iteration 113, loss = 0.07197605\n",
      "Validation score: 0.950000\n",
      "Iteration 114, loss = 0.07132104\n",
      "Validation score: 0.950000\n",
      "Iteration 115, loss = 0.07065432\n",
      "Validation score: 0.950000\n",
      "Iteration 116, loss = 0.07002885\n",
      "Validation score: 0.950000\n",
      "Iteration 117, loss = 0.06935076\n",
      "Validation score: 0.950000\n",
      "Iteration 118, loss = 0.06870342\n",
      "Validation score: 0.950000\n",
      "Iteration 119, loss = 0.06809387\n",
      "Validation score: 0.950000\n",
      "Iteration 120, loss = 0.06750501\n",
      "Validation score: 0.950000\n",
      "Iteration 121, loss = 0.06685942\n",
      "Validation score: 0.950000\n",
      "Iteration 122, loss = 0.06626269\n",
      "Validation score: 0.950000\n",
      "Iteration 123, loss = 0.06569398\n",
      "Validation score: 0.950000\n",
      "Iteration 124, loss = 0.06510763\n",
      "Validation score: 0.950000\n",
      "Iteration 125, loss = 0.06451079\n",
      "Validation score: 0.950000\n",
      "Iteration 126, loss = 0.06398445\n",
      "Validation score: 0.950000\n",
      "Iteration 127, loss = 0.06342494\n",
      "Validation score: 0.950000\n",
      "Iteration 128, loss = 0.06289090\n",
      "Validation score: 0.950000\n",
      "Iteration 129, loss = 0.06236115\n",
      "Validation score: 0.950000\n",
      "Iteration 130, loss = 0.06179428\n",
      "Validation score: 0.950000\n",
      "Iteration 131, loss = 0.06131801\n",
      "Validation score: 0.950000\n",
      "Iteration 132, loss = 0.06076244\n",
      "Validation score: 0.950000\n",
      "Iteration 133, loss = 0.06028608\n",
      "Validation score: 0.950000\n",
      "Iteration 134, loss = 0.05976393\n",
      "Validation score: 0.950000\n",
      "Iteration 135, loss = 0.05927834\n",
      "Validation score: 0.950000\n",
      "Iteration 136, loss = 0.05875484\n",
      "Validation score: 0.950000\n",
      "Iteration 137, loss = 0.05828710\n",
      "Validation score: 0.950000\n",
      "Iteration 138, loss = 0.05777885\n",
      "Validation score: 0.950000\n",
      "Iteration 139, loss = 0.05732308\n",
      "Validation score: 0.950000\n",
      "Iteration 140, loss = 0.05683064\n",
      "Validation score: 0.950000\n",
      "Iteration 141, loss = 0.05632441\n",
      "Validation score: 0.950000\n",
      "Iteration 142, loss = 0.05588913\n",
      "Validation score: 0.950000\n",
      "Iteration 143, loss = 0.05538878\n",
      "Validation score: 0.950000\n",
      "Iteration 144, loss = 0.05492885\n",
      "Validation score: 0.950000\n",
      "Iteration 145, loss = 0.05443353\n",
      "Validation score: 0.950000\n",
      "Iteration 146, loss = 0.05395189\n",
      "Validation score: 0.950000\n",
      "Iteration 147, loss = 0.05348532\n",
      "Validation score: 0.950000\n",
      "Iteration 148, loss = 0.05297414\n",
      "Validation score: 0.950000\n",
      "Validation score did not improve more than tol=0.000100 for 100 consecutive epochs. Stopping.\n"
     ]
    },
    {
     "data": {
      "text/html": [
       "<style>#sk-container-id-3 {color: black;}#sk-container-id-3 pre{padding: 0;}#sk-container-id-3 div.sk-toggleable {background-color: white;}#sk-container-id-3 label.sk-toggleable__label {cursor: pointer;display: block;width: 100%;margin-bottom: 0;padding: 0.3em;box-sizing: border-box;text-align: center;}#sk-container-id-3 label.sk-toggleable__label-arrow:before {content: \"▸\";float: left;margin-right: 0.25em;color: #696969;}#sk-container-id-3 label.sk-toggleable__label-arrow:hover:before {color: black;}#sk-container-id-3 div.sk-estimator:hover label.sk-toggleable__label-arrow:before {color: black;}#sk-container-id-3 div.sk-toggleable__content {max-height: 0;max-width: 0;overflow: hidden;text-align: left;background-color: #f0f8ff;}#sk-container-id-3 div.sk-toggleable__content pre {margin: 0.2em;color: black;border-radius: 0.25em;background-color: #f0f8ff;}#sk-container-id-3 input.sk-toggleable__control:checked~div.sk-toggleable__content {max-height: 200px;max-width: 100%;overflow: auto;}#sk-container-id-3 input.sk-toggleable__control:checked~label.sk-toggleable__label-arrow:before {content: \"▾\";}#sk-container-id-3 div.sk-estimator input.sk-toggleable__control:checked~label.sk-toggleable__label {background-color: #d4ebff;}#sk-container-id-3 div.sk-label input.sk-toggleable__control:checked~label.sk-toggleable__label {background-color: #d4ebff;}#sk-container-id-3 input.sk-hidden--visually {border: 0;clip: rect(1px 1px 1px 1px);clip: rect(1px, 1px, 1px, 1px);height: 1px;margin: -1px;overflow: hidden;padding: 0;position: absolute;width: 1px;}#sk-container-id-3 div.sk-estimator {font-family: monospace;background-color: #f0f8ff;border: 1px dotted black;border-radius: 0.25em;box-sizing: border-box;margin-bottom: 0.5em;}#sk-container-id-3 div.sk-estimator:hover {background-color: #d4ebff;}#sk-container-id-3 div.sk-parallel-item::after {content: \"\";width: 100%;border-bottom: 1px solid gray;flex-grow: 1;}#sk-container-id-3 div.sk-label:hover label.sk-toggleable__label {background-color: #d4ebff;}#sk-container-id-3 div.sk-serial::before {content: \"\";position: absolute;border-left: 1px solid gray;box-sizing: border-box;top: 0;bottom: 0;left: 50%;z-index: 0;}#sk-container-id-3 div.sk-serial {display: flex;flex-direction: column;align-items: center;background-color: white;padding-right: 0.2em;padding-left: 0.2em;position: relative;}#sk-container-id-3 div.sk-item {position: relative;z-index: 1;}#sk-container-id-3 div.sk-parallel {display: flex;align-items: stretch;justify-content: center;background-color: white;position: relative;}#sk-container-id-3 div.sk-item::before, #sk-container-id-3 div.sk-parallel-item::before {content: \"\";position: absolute;border-left: 1px solid gray;box-sizing: border-box;top: 0;bottom: 0;left: 50%;z-index: -1;}#sk-container-id-3 div.sk-parallel-item {display: flex;flex-direction: column;z-index: 1;position: relative;background-color: white;}#sk-container-id-3 div.sk-parallel-item:first-child::after {align-self: flex-end;width: 50%;}#sk-container-id-3 div.sk-parallel-item:last-child::after {align-self: flex-start;width: 50%;}#sk-container-id-3 div.sk-parallel-item:only-child::after {width: 0;}#sk-container-id-3 div.sk-dashed-wrapped {border: 1px dashed gray;margin: 0 0.4em 0.5em 0.4em;box-sizing: border-box;padding-bottom: 0.4em;background-color: white;}#sk-container-id-3 div.sk-label label {font-family: monospace;font-weight: bold;display: inline-block;line-height: 1.2em;}#sk-container-id-3 div.sk-label-container {text-align: center;}#sk-container-id-3 div.sk-container {/* jupyter's `normalize.less` sets `[hidden] { display: none; }` but bootstrap.min.css set `[hidden] { display: none !important; }` so we also need the `!important` here to be able to override the default hidden behavior on the sphinx rendered scikit-learn.org. See: https://github.com/scikit-learn/scikit-learn/issues/21755 */display: inline-block !important;position: relative;}#sk-container-id-3 div.sk-text-repr-fallback {display: none;}</style><div id=\"sk-container-id-3\" class=\"sk-top-container\"><div class=\"sk-text-repr-fallback\"><pre>MLPClassifier(early_stopping=True, hidden_layer_sizes=(20, 10), max_iter=1000,\n",
       "              n_iter_no_change=100, random_state=42, verbose=True)</pre><b>In a Jupyter environment, please rerun this cell to show the HTML representation or trust the notebook. <br />On GitHub, the HTML representation is unable to render, please try loading this page with nbviewer.org.</b></div><div class=\"sk-container\" hidden><div class=\"sk-item\"><div class=\"sk-estimator sk-toggleable\"><input class=\"sk-toggleable__control sk-hidden--visually\" id=\"sk-estimator-id-3\" type=\"checkbox\" checked><label for=\"sk-estimator-id-3\" class=\"sk-toggleable__label sk-toggleable__label-arrow\">MLPClassifier</label><div class=\"sk-toggleable__content\"><pre>MLPClassifier(early_stopping=True, hidden_layer_sizes=(20, 10), max_iter=1000,\n",
       "              n_iter_no_change=100, random_state=42, verbose=True)</pre></div></div></div></div></div>"
      ],
      "text/plain": [
       "MLPClassifier(early_stopping=True, hidden_layer_sizes=(20, 10), max_iter=1000,\n",
       "              n_iter_no_change=100, random_state=42, verbose=True)"
      ]
     },
     "execution_count": 36,
     "metadata": {},
     "output_type": "execute_result"
    }
   ],
   "source": [
    "# Instantiating the MLP model\n",
    "\n",
    "model = MLPClassifier(random_state=42,\n",
    "                     max_iter=1000,\n",
    "                     hidden_layer_sizes=(20,10),\n",
    "                     n_iter_no_change=100,\n",
    "                     early_stopping=True,\n",
    "                     verbose=True)\n",
    "# this model has two hidden layers in the neural network’s design, each with 20 and 10 neurons\n",
    "\n",
    "# Fitting the model for training\n",
    "model.fit(X_train, y_train)"
   ]
  },
  {
   "cell_type": "markdown",
   "id": "04ea0077-dc33-4feb-a0a1-cd628cdf7214",
   "metadata": {},
   "source": [
    "Plotting the loss results in each epoch"
   ]
  },
  {
   "cell_type": "code",
   "execution_count": 26,
   "id": "0644f26e-d00c-4c1f-8b2b-646063d1f035",
   "metadata": {},
   "outputs": [
    {
     "data": {
      "image/png": "[encoded data removed]",
      "text/plain": [
       "<Figure size 640x480 with 1 Axes>"
      ]
     },
     "metadata": {},
     "output_type": "display_data"
    }
   ],
   "source": [
    "loss_curve = model.loss_curve_\n",
    "plt.plot(loss_curve)\n",
    "plt.show()"
   ]
  },
  {
   "cell_type": "code",
   "execution_count": 27,
   "id": "b1c3b79e-7112-47d6-b520-25efbb702bef",
   "metadata": {},
   "outputs": [
    {
     "data": {
      "image/png": "[encoded data removed]",
      "text/plain": [
       "<Figure size 640x480 with 1 Axes>"
      ]
     },
     "metadata": {},
     "output_type": "display_data"
    }
   ],
   "source": [
    "validation_scores = model.validation_scores_\n",
    "plt.plot(validation_scores)\n",
    "plt.show()"
   ]
  },
  {
   "cell_type": "markdown",
   "id": "fd652abe-a199-4e02-88af-71af2d58cb8c",
   "metadata": {},
   "source": [
    "# Evaluation of the model"
   ]
  },
  {
   "cell_type": "code",
   "execution_count": 28,
   "id": "9b02b654-70b7-41f8-9deb-7d182a5de7a6",
   "metadata": {},
   "outputs": [
    {
     "data": {
      "text/plain": [
       "0.949748743718593"
      ]
     },
     "execution_count": 28,
     "metadata": {},
     "output_type": "execute_result"
    }
   ],
   "source": [
    "# During training\n",
    "model.score(X_train, y_train)"
   ]
  },
  {
   "cell_type": "code",
   "execution_count": 29,
   "id": "d60190b4-f387-415b-83a9-2e47c005787a",
   "metadata": {},
   "outputs": [
    {
     "data": {
      "text/plain": [
       "0.9590643274853801"
      ]
     },
     "execution_count": 29,
     "metadata": {},
     "output_type": "execute_result"
    }
   ],
   "source": [
    "# During testing\n",
    "model.score(X_test, y_test)"
   ]
  },
  {
   "cell_type": "code",
   "execution_count": 31,
   "id": "a12ed89d-5e36-479d-96af-ef137eaf9328",
   "metadata": {},
   "outputs": [],
   "source": [
    "y_hat = model.predict(X_test)"
   ]
  },
  {
   "cell_type": "markdown",
   "id": "96a9dd9a-918c-4407-b419-a8a0ad7bcad8",
   "metadata": {},
   "source": [
    "### Confusion Matrix"
   ]
  },
  {
   "cell_type": "code",
   "execution_count": 33,
   "id": "cbbf0c8f-b1a5-4ea5-9f16-d35930ebf83f",
   "metadata": {},
   "outputs": [
    {
     "data": {
      "image/png": "[encoded data removed]",
      "text/plain": [
       "<Figure size 640x480 with 2 Axes>"
      ]
     },
     "metadata": {},
     "output_type": "display_data"
    }
   ],
   "source": [
    "# Confusion Matrix first version with matplotlib.pyplot\n",
    "\n",
    "cm = confusion_matrix(y_test, y_hat, labels=model.classes_)\n",
    "disp = ConfusionMatrixDisplay(confusion_matrix=cm, display_labels=model.classes_)\n",
    "disp.plot()\n",
    "plt.show()"
   ]
  },
  {
   "cell_type": "code",
   "execution_count": 34,
   "id": "49798074-31d1-4957-8a01-c97aac8f7ae1",
   "metadata": {},
   "outputs": [
    {
     "data": {
      "application/vnd.plotly.v1+json": {
       "config": {
        "plotlyServerURL": "https://plot.ly"
       },
       "data": [
        {
         "colorscale": [
          [
           0,
           "#440154"
          ],
          [
           0.1111111111111111,
           "#482878"
          ],
          [
           0.2222222222222222,
           "#3e4989"
          ],
          [
           0.3333333333333333,
           "#31688e"
          ],
          [
           0.4444444444444444,
           "#26828e"
          ],
          [
           0.5555555555555556,
           "#1f9e89"
          ],
          [
           0.6666666666666666,
           "#35b779"
          ],
          [
           0.7777777777777778,
           "#6ece58"
          ],
          [
           0.8888888888888888,
           "#b5de2b"
          ],
          [
           1,
           "#fde725"
          ]
         ],
         "type": "heatmap",
         "x": [
          0,
          1
         ],
         "y": [
          0,
          1
         ],
         "z": [
          [
           61,
           2
          ],
          [
           5,
           103
          ]
         ]
        }
       ],
       "layout": {
        "annotations": [
         {
          "font": {
           "color": "white"
          },
          "showarrow": false,
          "text": "Correct: 61",
          "x": 0,
          "xref": "x",
          "y": 0,
          "yref": "y"
         },
         {
          "font": {
           "color": "white"
          },
          "showarrow": false,
          "text": "Errors: 2",
          "x": 1,
          "xref": "x",
          "y": 0,
          "yref": "y"
         },
         {
          "font": {
           "color": "white"
          },
          "showarrow": false,
          "text": "Errors: 5",
          "x": 0,
          "xref": "x",
          "y": 1,
          "yref": "y"
         },
         {
          "font": {
           "color": "white"
          },
          "showarrow": false,
          "text": "Correct: 103",
          "x": 1,
          "xref": "x",
          "y": 1,
          "yref": "y"
         }
        ],
        "autosize": true,
        "template": {
         "data": {
          "bar": [
           {
            "error_x": {
             "color": "#2a3f5f"
            },
            "error_y": {
             "color": "#2a3f5f"
            },
            "marker": {
             "line": {
              "color": "#E5ECF6",
              "width": 0.5
             },
             "pattern": {
              "fillmode": "overlay",
              "size": 10,
              "solidity": 0.2
             }
            },
            "type": "bar"
           }
          ],
          "barpolar": [
           {
            "marker": {
             "line": {
              "color": "#E5ECF6",
              "width": 0.5
             },
             "pattern": {
              "fillmode": "overlay",
              "size": 10,
              "solidity": 0.2
             }
            },
            "type": "barpolar"
           }
          ],
          "carpet": [
           {
            "aaxis": {
             "endlinecolor": "#2a3f5f",
             "gridcolor": "white",
             "linecolor": "white",
             "minorgridcolor": "white",
             "startlinecolor": "#2a3f5f"
            },
            "baxis": {
             "endlinecolor": "#2a3f5f",
             "gridcolor": "white",
             "linecolor": "white",
             "minorgridcolor": "white",
             "startlinecolor": "#2a3f5f"
            },
            "type": "carpet"
           }
          ],
          "choropleth": [
           {
            "colorbar": {
             "outlinewidth": 0,
             "ticks": ""
            },
            "type": "choropleth"
           }
          ],
          "contour": [
           {
            "colorbar": {
             "outlinewidth": 0,
             "ticks": ""
            },
            "colorscale": [
             [
              0,
              "#0d0887"
             ],
             [
              0.1111111111111111,
              "#46039f"
             ],
             [
              0.2222222222222222,
              "#7201a8"
             ],
             [
              0.3333333333333333,
              "#9c179e"
             ],
             [
              0.4444444444444444,
              "#bd3786"
             ],
             [
              0.5555555555555556,
              "#d8576b"
             ],
             [
              0.6666666666666666,
              "#ed7953"
             ],
             [
              0.7777777777777778,
              "#fb9f3a"
             ],
             [
              0.8888888888888888,
              "#fdca26"
             ],
             [
              1,
              "#f0f921"
             ]
            ],
            "type": "contour"
           }
          ],
          "contourcarpet": [
           {
            "colorbar": {
             "outlinewidth": 0,
             "ticks": ""
            },
            "type": "contourcarpet"
           }
          ],
          "heatmap": [
           {
            "colorbar": {
             "outlinewidth": 0,
             "ticks": ""
            },
            "colorscale": [
             [
              0,
              "#0d0887"
             ],
             [
              0.1111111111111111,
              "#46039f"
             ],
             [
              0.2222222222222222,
              "#7201a8"
             ],
             [
              0.3333333333333333,
              "#9c179e"
             ],
             [
              0.4444444444444444,
              "#bd3786"
             ],
             [
              0.5555555555555556,
              "#d8576b"
             ],
             [
              0.6666666666666666,
              "#ed7953"
             ],
             [
              0.7777777777777778,
              "#fb9f3a"
             ],
             [
              0.8888888888888888,
              "#fdca26"
             ],
             [
              1,
              "#f0f921"
             ]
            ],
            "type": "heatmap"
           }
          ],
          "heatmapgl": [
           {
            "colorbar": {
             "outlinewidth": 0,
             "ticks": ""
            },
            "colorscale": [
             [
              0,
              "#0d0887"
             ],
             [
              0.1111111111111111,
              "#46039f"
             ],
             [
              0.2222222222222222,
              "#7201a8"
             ],
             [
              0.3333333333333333,
              "#9c179e"
             ],
             [
              0.4444444444444444,
              "#bd3786"
             ],
             [
              0.5555555555555556,
              "#d8576b"
             ],
             [
              0.6666666666666666,
              "#ed7953"
             ],
             [
              0.7777777777777778,
              "#fb9f3a"
             ],
             [
              0.8888888888888888,
              "#fdca26"
             ],
             [
              1,
              "#f0f921"
             ]
            ],
            "type": "heatmapgl"
           }
          ],
          "histogram": [
           {
            "marker": {
             "pattern": {
              "fillmode": "overlay",
              "size": 10,
              "solidity": 0.2
             }
            },
            "type": "histogram"
           }
          ],
          "histogram2d": [
           {
            "colorbar": {
             "outlinewidth": 0,
             "ticks": ""
            },
            "colorscale": [
             [
              0,
              "#0d0887"
             ],
             [
              0.1111111111111111,
              "#46039f"
             ],
             [
              0.2222222222222222,
              "#7201a8"
             ],
             [
              0.3333333333333333,
              "#9c179e"
             ],
             [
              0.4444444444444444,
              "#bd3786"
             ],
             [
              0.5555555555555556,
              "#d8576b"
             ],
             [
              0.6666666666666666,
              "#ed7953"
             ],
             [
              0.7777777777777778,
              "#fb9f3a"
             ],
             [
              0.8888888888888888,
              "#fdca26"
             ],
             [
              1,
              "#f0f921"
             ]
            ],
            "type": "histogram2d"
           }
          ],
          "histogram2dcontour": [
           {
            "colorbar": {
             "outlinewidth": 0,
             "ticks": ""
            },
            "colorscale": [
             [
              0,
              "#0d0887"
             ],
             [
              0.1111111111111111,
              "#46039f"
             ],
             [
              0.2222222222222222,
              "#7201a8"
             ],
             [
              0.3333333333333333,
              "#9c179e"
             ],
             [
              0.4444444444444444,
              "#bd3786"
             ],
             [
              0.5555555555555556,
              "#d8576b"
             ],
             [
              0.6666666666666666,
              "#ed7953"
             ],
             [
              0.7777777777777778,
              "#fb9f3a"
             ],
             [
              0.8888888888888888,
              "#fdca26"
             ],
             [
              1,
              "#f0f921"
             ]
            ],
            "type": "histogram2dcontour"
           }
          ],
          "mesh3d": [
           {
            "colorbar": {
             "outlinewidth": 0,
             "ticks": ""
            },
            "type": "mesh3d"
           }
          ],
          "parcoords": [
           {
            "line": {
             "colorbar": {
              "outlinewidth": 0,
              "ticks": ""
             }
            },
            "type": "parcoords"
           }
          ],
          "pie": [
           {
            "automargin": true,
            "type": "pie"
           }
          ],
          "scatter": [
           {
            "fillpattern": {
             "fillmode": "overlay",
             "size": 10,
             "solidity": 0.2
            },
            "type": "scatter"
           }
          ],
          "scatter3d": [
           {
            "line": {
             "colorbar": {
              "outlinewidth": 0,
              "ticks": ""
             }
            },
            "marker": {
             "colorbar": {
              "outlinewidth": 0,
              "ticks": ""
             }
            },
            "type": "scatter3d"
           }
          ],
          "scattercarpet": [
           {
            "marker": {
             "colorbar": {
              "outlinewidth": 0,
              "ticks": ""
             }
            },
            "type": "scattercarpet"
           }
          ],
          "scattergeo": [
           {
            "marker": {
             "colorbar": {
              "outlinewidth": 0,
              "ticks": ""
             }
            },
            "type": "scattergeo"
           }
          ],
          "scattergl": [
           {
            "marker": {
             "colorbar": {
              "outlinewidth": 0,
              "ticks": ""
             }
            },
            "type": "scattergl"
           }
          ],
          "scattermapbox": [
           {
            "marker": {
             "colorbar": {
              "outlinewidth": 0,
              "ticks": ""
             }
            },
            "type": "scattermapbox"
           }
          ],
          "scatterpolar": [
           {
            "marker": {
             "colorbar": {
              "outlinewidth": 0,
              "ticks": ""
             }
            },
            "type": "scatterpolar"
           }
          ],
          "scatterpolargl": [
           {
            "marker": {
             "colorbar": {
              "outlinewidth": 0,
              "ticks": ""
             }
            },
            "type": "scatterpolargl"
           }
          ],
          "scatterternary": [
           {
            "marker": {
             "colorbar": {
              "outlinewidth": 0,
              "ticks": ""
             }
            },
            "type": "scatterternary"
           }
          ],
          "surface": [
           {
            "colorbar": {
             "outlinewidth": 0,
             "ticks": ""
            },
            "colorscale": [
             [
              0,
              "#0d0887"
             ],
             [
              0.1111111111111111,
              "#46039f"
             ],
             [
              0.2222222222222222,
              "#7201a8"
             ],
             [
              0.3333333333333333,
              "#9c179e"
             ],
             [
              0.4444444444444444,
              "#bd3786"
             ],
             [
              0.5555555555555556,
              "#d8576b"
             ],
             [
              0.6666666666666666,
              "#ed7953"
             ],
             [
              0.7777777777777778,
              "#fb9f3a"
             ],
             [
              0.8888888888888888,
              "#fdca26"
             ],
             [
              1,
              "#f0f921"
             ]
            ],
            "type": "surface"
           }
          ],
          "table": [
           {
            "cells": {
             "fill": {
              "color": "#EBF0F8"
             },
             "line": {
              "color": "white"
             }
            },
            "header": {
             "fill": {
              "color": "#C8D4E3"
             },
             "line": {
              "color": "white"
             }
            },
            "type": "table"
           }
          ]
         },
         "layout": {
          "annotationdefaults": {
           "arrowcolor": "#2a3f5f",
           "arrowhead": 0,
           "arrowwidth": 1
          },
          "autotypenumbers": "strict",
          "coloraxis": {
           "colorbar": {
            "outlinewidth": 0,
            "ticks": ""
           }
          },
          "colorscale": {
           "diverging": [
            [
             0,
             "#8e0152"
            ],
            [
             0.1,
             "#c51b7d"
            ],
            [
             0.2,
             "#de77ae"
            ],
            [
             0.3,
             "#f1b6da"
            ],
            [
             0.4,
             "#fde0ef"
            ],
            [
             0.5,
             "#f7f7f7"
            ],
            [
             0.6,
             "#e6f5d0"
            ],
            [
             0.7,
             "#b8e186"
            ],
            [
             0.8,
             "#7fbc41"
            ],
            [
             0.9,
             "#4d9221"
            ],
            [
             1,
             "#276419"
            ]
           ],
           "sequential": [
            [
             0,
             "#0d0887"
            ],
            [
             0.1111111111111111,
             "#46039f"
            ],
            [
             0.2222222222222222,
             "#7201a8"
            ],
            [
             0.3333333333333333,
             "#9c179e"
            ],
            [
             0.4444444444444444,
             "#bd3786"
            ],
            [
             0.5555555555555556,
             "#d8576b"
            ],
            [
             0.6666666666666666,
             "#ed7953"
            ],
            [
             0.7777777777777778,
             "#fb9f3a"
            ],
            [
             0.8888888888888888,
             "#fdca26"
            ],
            [
             1,
             "#f0f921"
            ]
           ],
           "sequentialminus": [
            [
             0,
             "#0d0887"
            ],
            [
             0.1111111111111111,
             "#46039f"
            ],
            [
             0.2222222222222222,
             "#7201a8"
            ],
            [
             0.3333333333333333,
             "#9c179e"
            ],
            [
             0.4444444444444444,
             "#bd3786"
            ],
            [
             0.5555555555555556,
             "#d8576b"
            ],
            [
             0.6666666666666666,
             "#ed7953"
            ],
            [
             0.7777777777777778,
             "#fb9f3a"
            ],
            [
             0.8888888888888888,
             "#fdca26"
            ],
            [
             1,
             "#f0f921"
            ]
           ]
          },
          "colorway": [
           "#636efa",
           "#EF553B",
           "#00cc96",
           "#ab63fa",
           "#FFA15A",
           "#19d3f3",
           "#FF6692",
           "#B6E880",
           "#FF97FF",
           "#FECB52"
          ],
          "font": {
           "color": "#2a3f5f"
          },
          "geo": {
           "bgcolor": "white",
           "lakecolor": "white",
           "landcolor": "#E5ECF6",
           "showlakes": true,
           "showland": true,
           "subunitcolor": "white"
          },
          "hoverlabel": {
           "align": "left"
          },
          "hovermode": "closest",
          "mapbox": {
           "style": "light"
          },
          "paper_bgcolor": "white",
          "plot_bgcolor": "#E5ECF6",
          "polar": {
           "angularaxis": {
            "gridcolor": "white",
            "linecolor": "white",
            "ticks": ""
           },
           "bgcolor": "#E5ECF6",
           "radialaxis": {
            "gridcolor": "white",
            "linecolor": "white",
            "ticks": ""
           }
          },
          "scene": {
           "xaxis": {
            "backgroundcolor": "#E5ECF6",
            "gridcolor": "white",
            "gridwidth": 2,
            "linecolor": "white",
            "showbackground": true,
            "ticks": "",
            "zerolinecolor": "white"
           },
           "yaxis": {
            "backgroundcolor": "#E5ECF6",
            "gridcolor": "white",
            "gridwidth": 2,
            "linecolor": "white",
            "showbackground": true,
            "ticks": "",
            "zerolinecolor": "white"
           },
           "zaxis": {
            "backgroundcolor": "#E5ECF6",
            "gridcolor": "white",
            "gridwidth": 2,
            "linecolor": "white",
            "showbackground": true,
            "ticks": "",
            "zerolinecolor": "white"
           }
          },
          "shapedefaults": {
           "line": {
            "color": "#2a3f5f"
           }
          },
          "ternary": {
           "aaxis": {
            "gridcolor": "white",
            "linecolor": "white",
            "ticks": ""
           },
           "baxis": {
            "gridcolor": "white",
            "linecolor": "white",
            "ticks": ""
           },
           "bgcolor": "#E5ECF6",
           "caxis": {
            "gridcolor": "white",
            "linecolor": "white",
            "ticks": ""
           }
          },
          "title": {
           "x": 0.05
          },
          "xaxis": {
           "automargin": true,
           "gridcolor": "white",
           "linecolor": "white",
           "ticks": "",
           "title": {
            "standoff": 15
           },
           "zerolinecolor": "white",
           "zerolinewidth": 2
          },
          "yaxis": {
           "automargin": true,
           "gridcolor": "white",
           "linecolor": "white",
           "ticks": "",
           "title": {
            "standoff": 15
           },
           "zerolinecolor": "white",
           "zerolinewidth": 2
          }
         }
        },
        "xaxis": {
         "autorange": true,
         "range": [
          -0.5,
          1.5
         ],
         "tickmode": "array",
         "ticktext": [
          0,
          1
         ],
         "tickvals": [
          0,
          1
         ],
         "type": "linear"
        },
        "yaxis": {
         "autorange": true,
         "range": [
          -0.5,
          1.5
         ],
         "tickmode": "array",
         "ticktext": [
          0,
          1
         ],
         "tickvals": [
          0,
          1
         ],
         "type": "linear"
        }
       }
      },
      "image/png": "[encoded data removed]",
      "text/html": [
       "<div>                            <div id=\"947d0b58-07df-48a0-869c-36ac6c85e7f7\" class=\"plotly-graph-div\" style=\"height:525px; width:100%;\"></div>            <script type=\"text/javascript\">                require([\"plotly\"], function(Plotly) {                    window.PLOTLYENV=window.PLOTLYENV || {};                                    if (document.getElementById(\"947d0b58-07df-48a0-869c-36ac6c85e7f7\")) {                    Plotly.newPlot(                        \"947d0b58-07df-48a0-869c-36ac6c85e7f7\",                        [{\"colorscale\":[[0.0,\"#440154\"],[0.1111111111111111,\"#482878\"],[0.2222222222222222,\"#3e4989\"],[0.3333333333333333,\"#31688e\"],[0.4444444444444444,\"#26828e\"],[0.5555555555555556,\"#1f9e89\"],[0.6666666666666666,\"#35b779\"],[0.7777777777777778,\"#6ece58\"],[0.8888888888888888,\"#b5de2b\"],[1.0,\"#fde725\"]],\"x\":[0,1],\"y\":[0,1],\"z\":[[61,2],[5,103]],\"type\":\"heatmap\"}],                        {\"template\":{\"data\":{\"histogram2dcontour\":[{\"type\":\"histogram2dcontour\",\"colorbar\":{\"outlinewidth\":0,\"ticks\":\"\"},\"colorscale\":[[0.0,\"#0d0887\"],[0.1111111111111111,\"#46039f\"],[0.2222222222222222,\"#7201a8\"],[0.3333333333333333,\"#9c179e\"],[0.4444444444444444,\"#bd3786\"],[0.5555555555555556,\"#d8576b\"],[0.6666666666666666,\"#ed7953\"],[0.7777777777777778,\"#fb9f3a\"],[0.8888888888888888,\"#fdca26\"],[1.0,\"#f0f921\"]]}],\"choropleth\":[{\"type\":\"choropleth\",\"colorbar\":{\"outlinewidth\":0,\"ticks\":\"\"}}],\"histogram2d\":[{\"type\":\"histogram2d\",\"colorbar\":{\"outlinewidth\":0,\"ticks\":\"\"},\"colorscale\":[[0.0,\"#0d0887\"],[0.1111111111111111,\"#46039f\"],[0.2222222222222222,\"#7201a8\"],[0.3333333333333333,\"#9c179e\"],[0.4444444444444444,\"#bd3786\"],[0.5555555555555556,\"#d8576b\"],[0.6666666666666666,\"#ed7953\"],[0.7777777777777778,\"#fb9f3a\"],[0.8888888888888888,\"#fdca26\"],[1.0,\"#f0f921\"]]}],\"heatmap\":[{\"type\":\"heatmap\",\"colorbar\":{\"outlinewidth\":0,\"ticks\":\"\"},\"colorscale\":[[0.0,\"#0d0887\"],[0.1111111111111111,\"#46039f\"],[0.2222222222222222,\"#7201a8\"],[0.3333333333333333,\"#9c179e\"],[0.4444444444444444,\"#bd3786\"],[0.5555555555555556,\"#d8576b\"],[0.6666666666666666,\"#ed7953\"],[0.7777777777777778,\"#fb9f3a\"],[0.8888888888888888,\"#fdca26\"],[1.0,\"#f0f921\"]]}],\"heatmapgl\":[{\"type\":\"heatmapgl\",\"colorbar\":{\"outlinewidth\":0,\"ticks\":\"\"},\"colorscale\":[[0.0,\"#0d0887\"],[0.1111111111111111,\"#46039f\"],[0.2222222222222222,\"#7201a8\"],[0.3333333333333333,\"#9c179e\"],[0.4444444444444444,\"#bd3786\"],[0.5555555555555556,\"#d8576b\"],[0.6666666666666666,\"#ed7953\"],[0.7777777777777778,\"#fb9f3a\"],[0.8888888888888888,\"#fdca26\"],[1.0,\"#f0f921\"]]}],\"contourcarpet\":[{\"type\":\"contourcarpet\",\"colorbar\":{\"outlinewidth\":0,\"ticks\":\"\"}}],\"contour\":[{\"type\":\"contour\",\"colorbar\":{\"outlinewidth\":0,\"ticks\":\"\"},\"colorscale\":[[0.0,\"#0d0887\"],[0.1111111111111111,\"#46039f\"],[0.2222222222222222,\"#7201a8\"],[0.3333333333333333,\"#9c179e\"],[0.4444444444444444,\"#bd3786\"],[0.5555555555555556,\"#d8576b\"],[0.6666666666666666,\"#ed7953\"],[0.7777777777777778,\"#fb9f3a\"],[0.8888888888888888,\"#fdca26\"],[1.0,\"#f0f921\"]]}],\"surface\":[{\"type\":\"surface\",\"colorbar\":{\"outlinewidth\":0,\"ticks\":\"\"},\"colorscale\":[[0.0,\"#0d0887\"],[0.1111111111111111,\"#46039f\"],[0.2222222222222222,\"#7201a8\"],[0.3333333333333333,\"#9c179e\"],[0.4444444444444444,\"#bd3786\"],[0.5555555555555556,\"#d8576b\"],[0.6666666666666666,\"#ed7953\"],[0.7777777777777778,\"#fb9f3a\"],[0.8888888888888888,\"#fdca26\"],[1.0,\"#f0f921\"]]}],\"mesh3d\":[{\"type\":\"mesh3d\",\"colorbar\":{\"outlinewidth\":0,\"ticks\":\"\"}}],\"scatter\":[{\"fillpattern\":{\"fillmode\":\"overlay\",\"size\":10,\"solidity\":0.2},\"type\":\"scatter\"}],\"parcoords\":[{\"type\":\"parcoords\",\"line\":{\"colorbar\":{\"outlinewidth\":0,\"ticks\":\"\"}}}],\"scatterpolargl\":[{\"type\":\"scatterpolargl\",\"marker\":{\"colorbar\":{\"outlinewidth\":0,\"ticks\":\"\"}}}],\"bar\":[{\"error_x\":{\"color\":\"#2a3f5f\"},\"error_y\":{\"color\":\"#2a3f5f\"},\"marker\":{\"line\":{\"color\":\"#E5ECF6\",\"width\":0.5},\"pattern\":{\"fillmode\":\"overlay\",\"size\":10,\"solidity\":0.2}},\"type\":\"bar\"}],\"scattergeo\":[{\"type\":\"scattergeo\",\"marker\":{\"colorbar\":{\"outlinewidth\":0,\"ticks\":\"\"}}}],\"scatterpolar\":[{\"type\":\"scatterpolar\",\"marker\":{\"colorbar\":{\"outlinewidth\":0,\"ticks\":\"\"}}}],\"histogram\":[{\"marker\":{\"pattern\":{\"fillmode\":\"overlay\",\"size\":10,\"solidity\":0.2}},\"type\":\"histogram\"}],\"scattergl\":[{\"type\":\"scattergl\",\"marker\":{\"colorbar\":{\"outlinewidth\":0,\"ticks\":\"\"}}}],\"scatter3d\":[{\"type\":\"scatter3d\",\"line\":{\"colorbar\":{\"outlinewidth\":0,\"ticks\":\"\"}},\"marker\":{\"colorbar\":{\"outlinewidth\":0,\"ticks\":\"\"}}}],\"scattermapbox\":[{\"type\":\"scattermapbox\",\"marker\":{\"colorbar\":{\"outlinewidth\":0,\"ticks\":\"\"}}}],\"scatterternary\":[{\"type\":\"scatterternary\",\"marker\":{\"colorbar\":{\"outlinewidth\":0,\"ticks\":\"\"}}}],\"scattercarpet\":[{\"type\":\"scattercarpet\",\"marker\":{\"colorbar\":{\"outlinewidth\":0,\"ticks\":\"\"}}}],\"carpet\":[{\"aaxis\":{\"endlinecolor\":\"#2a3f5f\",\"gridcolor\":\"white\",\"linecolor\":\"white\",\"minorgridcolor\":\"white\",\"startlinecolor\":\"#2a3f5f\"},\"baxis\":{\"endlinecolor\":\"#2a3f5f\",\"gridcolor\":\"white\",\"linecolor\":\"white\",\"minorgridcolor\":\"white\",\"startlinecolor\":\"#2a3f5f\"},\"type\":\"carpet\"}],\"table\":[{\"cells\":{\"fill\":{\"color\":\"#EBF0F8\"},\"line\":{\"color\":\"white\"}},\"header\":{\"fill\":{\"color\":\"#C8D4E3\"},\"line\":{\"color\":\"white\"}},\"type\":\"table\"}],\"barpolar\":[{\"marker\":{\"line\":{\"color\":\"#E5ECF6\",\"width\":0.5},\"pattern\":{\"fillmode\":\"overlay\",\"size\":10,\"solidity\":0.2}},\"type\":\"barpolar\"}],\"pie\":[{\"automargin\":true,\"type\":\"pie\"}]},\"layout\":{\"autotypenumbers\":\"strict\",\"colorway\":[\"#636efa\",\"#EF553B\",\"#00cc96\",\"#ab63fa\",\"#FFA15A\",\"#19d3f3\",\"#FF6692\",\"#B6E880\",\"#FF97FF\",\"#FECB52\"],\"font\":{\"color\":\"#2a3f5f\"},\"hovermode\":\"closest\",\"hoverlabel\":{\"align\":\"left\"},\"paper_bgcolor\":\"white\",\"plot_bgcolor\":\"#E5ECF6\",\"polar\":{\"bgcolor\":\"#E5ECF6\",\"angularaxis\":{\"gridcolor\":\"white\",\"linecolor\":\"white\",\"ticks\":\"\"},\"radialaxis\":{\"gridcolor\":\"white\",\"linecolor\":\"white\",\"ticks\":\"\"}},\"ternary\":{\"bgcolor\":\"#E5ECF6\",\"aaxis\":{\"gridcolor\":\"white\",\"linecolor\":\"white\",\"ticks\":\"\"},\"baxis\":{\"gridcolor\":\"white\",\"linecolor\":\"white\",\"ticks\":\"\"},\"caxis\":{\"gridcolor\":\"white\",\"linecolor\":\"white\",\"ticks\":\"\"}},\"coloraxis\":{\"colorbar\":{\"outlinewidth\":0,\"ticks\":\"\"}},\"colorscale\":{\"sequential\":[[0.0,\"#0d0887\"],[0.1111111111111111,\"#46039f\"],[0.2222222222222222,\"#7201a8\"],[0.3333333333333333,\"#9c179e\"],[0.4444444444444444,\"#bd3786\"],[0.5555555555555556,\"#d8576b\"],[0.6666666666666666,\"#ed7953\"],[0.7777777777777778,\"#fb9f3a\"],[0.8888888888888888,\"#fdca26\"],[1.0,\"#f0f921\"]],\"sequentialminus\":[[0.0,\"#0d0887\"],[0.1111111111111111,\"#46039f\"],[0.2222222222222222,\"#7201a8\"],[0.3333333333333333,\"#9c179e\"],[0.4444444444444444,\"#bd3786\"],[0.5555555555555556,\"#d8576b\"],[0.6666666666666666,\"#ed7953\"],[0.7777777777777778,\"#fb9f3a\"],[0.8888888888888888,\"#fdca26\"],[1.0,\"#f0f921\"]],\"diverging\":[[0,\"#8e0152\"],[0.1,\"#c51b7d\"],[0.2,\"#de77ae\"],[0.3,\"#f1b6da\"],[0.4,\"#fde0ef\"],[0.5,\"#f7f7f7\"],[0.6,\"#e6f5d0\"],[0.7,\"#b8e186\"],[0.8,\"#7fbc41\"],[0.9,\"#4d9221\"],[1,\"#276419\"]]},\"xaxis\":{\"gridcolor\":\"white\",\"linecolor\":\"white\",\"ticks\":\"\",\"title\":{\"standoff\":15},\"zerolinecolor\":\"white\",\"automargin\":true,\"zerolinewidth\":2},\"yaxis\":{\"gridcolor\":\"white\",\"linecolor\":\"white\",\"ticks\":\"\",\"title\":{\"standoff\":15},\"zerolinecolor\":\"white\",\"automargin\":true,\"zerolinewidth\":2},\"scene\":{\"xaxis\":{\"backgroundcolor\":\"#E5ECF6\",\"gridcolor\":\"white\",\"linecolor\":\"white\",\"showbackground\":true,\"ticks\":\"\",\"zerolinecolor\":\"white\",\"gridwidth\":2},\"yaxis\":{\"backgroundcolor\":\"#E5ECF6\",\"gridcolor\":\"white\",\"linecolor\":\"white\",\"showbackground\":true,\"ticks\":\"\",\"zerolinecolor\":\"white\",\"gridwidth\":2},\"zaxis\":{\"backgroundcolor\":\"#E5ECF6\",\"gridcolor\":\"white\",\"linecolor\":\"white\",\"showbackground\":true,\"ticks\":\"\",\"zerolinecolor\":\"white\",\"gridwidth\":2}},\"shapedefaults\":{\"line\":{\"color\":\"#2a3f5f\"}},\"annotationdefaults\":{\"arrowcolor\":\"#2a3f5f\",\"arrowhead\":0,\"arrowwidth\":1},\"geo\":{\"bgcolor\":\"white\",\"landcolor\":\"#E5ECF6\",\"subunitcolor\":\"white\",\"showland\":true,\"showlakes\":true,\"lakecolor\":\"white\"},\"title\":{\"x\":0.05},\"mapbox\":{\"style\":\"light\"}}},\"annotations\":[{\"font\":{\"color\":\"white\"},\"showarrow\":false,\"text\":\"Correct: 61\",\"x\":0,\"xref\":\"x\",\"y\":0,\"yref\":\"y\"},{\"font\":{\"color\":\"white\"},\"showarrow\":false,\"text\":\"Errors: 2\",\"x\":1,\"xref\":\"x\",\"y\":0,\"yref\":\"y\"},{\"font\":{\"color\":\"white\"},\"showarrow\":false,\"text\":\"Errors: 5\",\"x\":0,\"xref\":\"x\",\"y\":1,\"yref\":\"y\"},{\"font\":{\"color\":\"white\"},\"showarrow\":false,\"text\":\"Correct: 103\",\"x\":1,\"xref\":\"x\",\"y\":1,\"yref\":\"y\"}],\"xaxis\":{\"tickmode\":\"array\",\"tickvals\":[0,1],\"ticktext\":[0,1]},\"yaxis\":{\"tickmode\":\"array\",\"tickvals\":[0,1],\"ticktext\":[0,1]}},                        {\"responsive\": true}                    ).then(function(){\n",
       "                            \n",
       "var gd = document.getElementById('947d0b58-07df-48a0-869c-36ac6c85e7f7');\n",
       "var x = new MutationObserver(function (mutations, observer) {{\n",
       "        var display = window.getComputedStyle(gd).display;\n",
       "        if (!display || display === 'none') {{\n",
       "            console.log([gd, 'removed!']);\n",
       "            Plotly.purge(gd);\n",
       "            observer.disconnect();\n",
       "        }}\n",
       "}});\n",
       "\n",
       "// Listen for the removal of the full notebook cells\n",
       "var notebookContainer = gd.closest('#notebook-container');\n",
       "if (notebookContainer) {{\n",
       "    x.observe(notebookContainer, {childList: true});\n",
       "}}\n",
       "\n",
       "// Listen for the clearing of the current output cell\n",
       "var outputEl = gd.closest('.output');\n",
       "if (outputEl) {{\n",
       "    x.observe(outputEl, {childList: true});\n",
       "}}\n",
       "\n",
       "                        })                };                });            </script>        </div>"
      ]
     },
     "metadata": {},
     "output_type": "display_data"
    }
   ],
   "source": [
    "# Confusion Matrix second version with plotly.express\n",
    "\n",
    "# Create the heatmap trace\n",
    "heatmap = go.Heatmap(z=cm, x=model.classes_, y=model.classes_, colorscale='Viridis')\n",
    "\n",
    "# Create the figure and add the heatmap trace\n",
    "fig = go.Figure(data=[heatmap])\n",
    "\n",
    "# Add annotations for each cell in the confusion matrix\n",
    "for i in range(len(cm)):\n",
    "    for j in range(len(cm[i])):\n",
    "        if i == j:\n",
    "            text = f\"Correct: {cm[i][j]}\"\n",
    "        else:\n",
    "            text = f\"Errors: {cm[i][j]}\"\n",
    "        fig.add_annotation(\n",
    "            text=text,\n",
    "            x=model.classes_[j],\n",
    "            y=model.classes_[i],\n",
    "            xref='x',\n",
    "            yref='y',\n",
    "            showarrow=False,\n",
    "            font=dict(color='white')  # Ensure text color is white for better visibility\n",
    "        )\n",
    "\n",
    "# Update axis properties\n",
    "fig.update_xaxes(tickmode='array', tickvals=list(range(len(model.classes_))), ticktext=model.classes_)\n",
    "fig.update_yaxes(tickmode='array', tickvals=list(range(len(model.classes_))), ticktext=model.classes_)\n",
    "\n",
    "# Show the figure\n",
    "fig.show()"
   ]
  },
  {
   "cell_type": "markdown",
   "id": "519beaaf-b821-4ec1-a555-0b020ddc6ed4",
   "metadata": {},
   "source": [
    "##### *As you can see the model has a good accuracy  and is doing well in predicting both classes*"
   ]
  }
 ],
 "metadata": {
  "kernelspec": {
   "display_name": "Python 3 (ipykernel)",
   "language": "python",
   "name": "python3"
  },
  "language_info": {
   "codemirror_mode": {
    "name": "ipython",
    "version": 3
   },
   "file_extension": ".py",
   "mimetype": "text/x-python",
   "name": "python",
   "nbconvert_exporter": "python",
   "pygments_lexer": "ipython3",
   "version": "3.9.18"
  }
 },
 "nbformat": 4,
 "nbformat_minor": 5
}
