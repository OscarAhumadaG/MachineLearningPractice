{
 "cells": [
  {
   "cell_type": "markdown",
   "id": "6be1eed7-53e2-4a3d-9754-48dca7bede31",
   "metadata": {},
   "source": [
    "## Articles\n",
    "In this notebook, I wil, save some usefull articles that can give you hints about the different algorithm that are used in ML and AI, so I hope this notebook will be updated through time."
   ]
  },
  {
   "cell_type": "markdown",
   "id": "33aaf553-7777-4d14-91d1-f6775a0f6d0c",
   "metadata": {},
   "source": [
    "#### 1. Top 10 Machine Learning Algorithms for Beginner Data Scientists\n",
    "[10 ML algortihm for beginners](https://nathanrosidi.medium.com/top-10-machine-learning-algorithms-for-beginner-data-scientists-aae78826712f)"
   ]
  },
  {
   "cell_type": "markdown",
   "id": "7d6a4611-af10-47c9-a0d4-0e09989352f1",
   "metadata": {},
   "source": [
    "**Things to consider when choosing metrics in Logistic Regression**\n",
    "\n",
    "The next important step after examining the coefficients from a logistic regression model is evaluating the model through metrics. The most commonly used metrics include precision, recall, and accuracy. The following sections describe things to keep in mind when choosing between these. \n",
    "\n",
    "- When to use precision\n",
    "    - Using precision as an evaluation metric is especially helpful in contexts where the cost of a false positive is quite high and much higher than the cost of a false negative. For example, in the context of email spam detection, a false positive (predicting a non-spam email as spam) would be more costly than a false negative (predicting a spam email as non-spam). A non-spam email that is misclassified could contain important information, such as project status updates from a vendor to a client or assignment deadline announcements from an instructor to a class of students. \n",
    "\n",
    "- When to use recall\n",
    "    - Using recall as an evaluation metric is especially helpful in contexts where the cost of a false negative is quite high and much higher than the cost of a false positive. For example, in the context of fraud detection among credit card transactions, a false negative (predicting a fraudulent credit card charge as non-fraudulent) would be more costly than a false positive (predicting a non-fraudulent credit card charge as fraudulent). A fraudulent credit card charge that is misclassified could lead to the customer losing money, undetected.\n",
    "\n",
    "- When to use accuracy\n",
    "    - It is helpful to use accuracy as an evaluation metric when you specifically want to know how much of the data at hand has been correctly categorized by the classifier. Another scenario to consider: accuracy is an appropriate metric to use when the data is balanced, in other words, when the data has a roughly equal number of positive examples and negative examples. Otherwise, accuracy can be biased. For example, imagine that 95% of a dataset contains positive examples, and the remaining 5% contains negative examples. Then you train a logistic regression classifier on this data and use this classifier predict on this data. If you get an accuracy of 95%, that does not necessarily indicate that this classifier is effective. Since there is a much larger proportion of positive examples than negative examples, the classifier may be biased towards the majority class (positive) and thus the accuracy metric in this context may not be meaningful. When the data you are working with is imbalanced, consider either transforming it to be balanced or using a different evaluation metric other than accuracy."
   ]
  },
  {
   "cell_type": "code",
   "execution_count": null,
   "id": "8ae11256-0b3e-4a04-a174-2506dd5af109",
   "metadata": {},
   "outputs": [],
   "source": []
  }
 ],
 "metadata": {
  "kernelspec": {
   "display_name": "Python 3 (ipykernel)",
   "language": "python",
   "name": "python3"
  },
  "language_info": {
   "codemirror_mode": {
    "name": "ipython",
    "version": 3
   },
   "file_extension": ".py",
   "mimetype": "text/x-python",
   "name": "python",
   "nbconvert_exporter": "python",
   "pygments_lexer": "ipython3",
   "version": "3.9.18"
  }
 },
 "nbformat": 4,
 "nbformat_minor": 5
}
