{
 "cells": [
  {
   "cell_type": "markdown",
   "id": "6be1eed7-53e2-4a3d-9754-48dca7bede31",
   "metadata": {},
   "source": [
    "## Articles\n",
    "In this notebook, I wil, save some usefull articles that can give you hints about the different algorithm that are used in ML and AI, so I hope this notebook will be updated through time."
   ]
  },
  {
   "cell_type": "markdown",
   "id": "33aaf553-7777-4d14-91d1-f6775a0f6d0c",
   "metadata": {},
   "source": [
    "#### 1. Top 10 Machine Learning Algorithms for Beginner Data Scientists\n",
    "[10 ML algortihm for beginners](https://nathanrosidi.medium.com/top-10-machine-learning-algorithms-for-beginner-data-scientists-aae78826712f)"
   ]
  },
  {
   "cell_type": "code",
   "execution_count": null,
   "id": "e2ce72eb-906f-4a39-957e-2bd6b2658289",
   "metadata": {},
   "outputs": [],
   "source": []
  }
 ],
 "metadata": {
  "kernelspec": {
   "display_name": "Python 3 (ipykernel)",
   "language": "python",
   "name": "python3"
  },
  "language_info": {
   "codemirror_mode": {
    "name": "ipython",
    "version": 3
   },
   "file_extension": ".py",
   "mimetype": "text/x-python",
   "name": "python",
   "nbconvert_exporter": "python",
   "pygments_lexer": "ipython3",
   "version": "3.9.18"
  }
 },
 "nbformat": 4,
 "nbformat_minor": 5
}
