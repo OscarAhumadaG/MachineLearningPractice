{
 "cells": [
  {
   "cell_type": "markdown",
   "id": "f6bf49f7-21f0-47bc-9a3e-7fd325a0b9bf",
   "metadata": {},
   "source": [
    "# Customizing recipes with lists, dictionaries and AI"
   ]
  },
  {
   "cell_type": "markdown",
   "id": "a9f73957",
   "metadata": {},
   "source": [
    "In the previous lesson, you went through how to use dictionaries to complete tasks by priority. In this lesson, you will see how you can use dictionaries to update LLM prompts and create food recipies that match your friends preferences, restrictions and cooking experience. "
   ]
  },
  {
   "cell_type": "code",
   "execution_count": 1,
   "id": "0669df5d-5013-466b-90c8-679364ff80a1",
   "metadata": {
    "height": 30
   },
   "outputs": [],
   "source": [
    "from helper_functions import print_llm_response, get_llm_response"
   ]
  },
  {
   "cell_type": "markdown",
   "id": "f2ddd461",
   "metadata": {},
   "source": [
    "## Food preference dictionaries\n",
    "\n",
    "Dictionaries are a useful way to organize multiple variables associated with a single entity, like one of your friends. In the next dictionary, you store the food preferences and cooking experience for Tommy."
   ]
  },
  {
   "cell_type": "code",
   "execution_count": 2,
   "id": "5ccb6d62",
   "metadata": {
    "height": 115
   },
   "outputs": [],
   "source": [
    "food_preferences_tommy = {\n",
    "        \"dietary_restrictions\": \"vegetarian\",\n",
    "        \"favorite_ingredients\": [\"tofu\", \"olives\"],\n",
    "        \"experience_level\": \"intermediate\",\n",
    "        \"maximum_spice_level\": 6\n",
    "}"
   ]
  },
  {
   "cell_type": "markdown",
   "id": "b27a261d",
   "metadata": {},
   "source": [
    "As you can see there, that dictionary has four keys, wich you can access using `\".keys()\"`:"
   ]
  },
  {
   "cell_type": "code",
   "execution_count": 3,
   "id": "8849cd3c",
   "metadata": {
    "height": 30
   },
   "outputs": [
    {
     "name": "stdout",
     "output_type": "stream",
     "text": [
      "dict_keys(['dietary_restrictions', 'favorite_ingredients', 'experience_level', 'maximum_spice_level'])\n"
     ]
    }
   ],
   "source": [
    "print(food_preferences_tommy.keys())"
   ]
  },
  {
   "cell_type": "markdown",
   "id": "d73a2a44",
   "metadata": {},
   "source": [
    "And it has values with different data types: lists, strings and integers. "
   ]
  },
  {
   "cell_type": "code",
   "execution_count": 4,
   "id": "31f98465",
   "metadata": {
    "height": 30
   },
   "outputs": [
    {
     "name": "stdout",
     "output_type": "stream",
     "text": [
      "dict_values(['vegetarian', ['tofu', 'olives'], 'intermediate', 6])\n"
     ]
    }
   ],
   "source": [
    "print(food_preferences_tommy.values())"
   ]
  },
  {
   "cell_type": "markdown",
   "id": "4d786ed3",
   "metadata": {},
   "source": [
    "Let's see how you can use these in a prompt to create recipes that take into account your friends dietary preferences."
   ]
  },
  {
   "cell_type": "markdown",
   "id": "5241f8b9",
   "metadata": {},
   "source": [
    "## Using keys and values within AI prompt"
   ]
  },
  {
   "cell_type": "markdown",
   "id": "6a8f30dc",
   "metadata": {},
   "source": [
    "So here's a prompt that uses all the information in the dictionary to create a customized recipe"
   ]
  },
  {
   "cell_type": "code",
   "execution_count": 5,
   "id": "463a6d2a",
   "metadata": {
    "height": 200
   },
   "outputs": [],
   "source": [
    "prompt = f\"\"\"Please suggest a recipe that tries to include \n",
    "the following ingredients: \n",
    "{food_preferences_tommy[\"favorite_ingredients\"]}.\n",
    "The recipe should adhere to the following dietary restrictions:\n",
    "{food_preferences_tommy[\"dietary_restrictions\"]}.\n",
    "The difficulty of the recipe should be: \n",
    "{food_preferences_tommy[\"experience_level\"]}\n",
    "The maximum spice level on a scale of 10 should be: \n",
    "{food_preferences_tommy[\"maximum_spice_level\"]} \n",
    "Provide a two sentence description.\n",
    "\"\"\""
   ]
  },
  {
   "cell_type": "markdown",
   "id": "b24af997",
   "metadata": {},
   "source": [
    "Run the cell below to print the prompt."
   ]
  },
  {
   "cell_type": "code",
   "execution_count": 6,
   "id": "6cceec03-639e-460c-a0d6-b34adb2cd28d",
   "metadata": {
    "height": 30
   },
   "outputs": [
    {
     "name": "stdout",
     "output_type": "stream",
     "text": [
      "Please suggest a recipe that tries to include \n",
      "the following ingredients: \n",
      "['tofu', 'olives'].\n",
      "The recipe should adhere to the following dietary restrictions:\n",
      "vegetarian.\n",
      "The difficulty of the recipe should be: \n",
      "intermediate\n",
      "The maximum spice level on a scale of 10 should be: \n",
      "6 \n",
      "Provide a two sentence description.\n",
      "\n"
     ]
    }
   ],
   "source": [
    "print(prompt)"
   ]
  },
  {
   "cell_type": "markdown",
   "id": "10b37203",
   "metadata": {},
   "source": [
    "Now, you can use that prompt with an LLM to suggest a recipe to fit Tommy's preferences:"
   ]
  },
  {
   "cell_type": "code",
   "execution_count": 7,
   "id": "14850b74",
   "metadata": {
    "height": 30
   },
   "outputs": [
    {
     "name": "stdout",
     "output_type": "stream",
     "text": [
      "____________________________________________________________________________________________________\n",
      "Try making a Mediterranean Tofu and Olive Stir-Fry. Sauté cubed tofu with bell peppers, garlic, and a mix of green and black olives, then season with oregano and a splash of lemon juice for a flavorful, vegetarian dish that balances savory and tangy notes.\n",
      "____________________________________________________________________________________________________\n",
      "\n",
      "\n"
     ]
    }
   ],
   "source": [
    "print_llm_response(prompt)"
   ]
  },
  {
   "cell_type": "markdown",
   "id": "e00bb0c1",
   "metadata": {},
   "source": [
    "The model followed the instructions. Tommy will be delighted!"
   ]
  },
  {
   "cell_type": "markdown",
   "id": "86e7ba47",
   "metadata": {},
   "source": [
    "## Refining the prompt with available ingredients"
   ]
  },
  {
   "cell_type": "markdown",
   "id": "e813a9b6",
   "metadata": {},
   "source": [
    "You can go a step further and consider the available ingredients at your house. To do so, let's use the following lists:"
   ]
  },
  {
   "cell_type": "code",
   "execution_count": 9,
   "id": "72256217-4474-4c48-a87d-36b444c25ea6",
   "metadata": {
    "height": 30
   },
   "outputs": [],
   "source": [
    "available_spices = [\"cumin\", \"turmeric\", \"oregano\", \"paprika\"]"
   ]
  },
  {
   "cell_type": "markdown",
   "id": "b2f46ab1",
   "metadata": {},
   "source": [
    "You can add these directly to the prompt so that the LLM take those into consideration"
   ]
  },
  {
   "cell_type": "code",
   "execution_count": 10,
   "id": "3b73cd00-bf5e-4865-9a05-07e7f68b1296",
   "metadata": {
    "height": 268
   },
   "outputs": [
    {
     "name": "stdout",
     "output_type": "stream",
     "text": [
      "Please suggest a recipe that tries to include \n",
      "the following ingredients: \n",
      "['tofu', 'olives'].\n",
      "The recipe should adhere to the following dietary restrictions:\n",
      "vegetarian.\n",
      "The difficulty of the recipe should be: \n",
      "intermediate\n",
      "The maximum spice level on a scale of 10 should be: \n",
      "6 \n",
      "Provide a two sentence description.\n",
      "\n",
      "The recipe should not include spices outside of this list:\n",
      "Spices: ['cumin', 'turmeric', 'oregano', 'paprika']\n",
      "\n"
     ]
    }
   ],
   "source": [
    "prompt = f\"\"\"Please suggest a recipe that tries to include \n",
    "the following ingredients: \n",
    "{food_preferences_tommy[\"favorite_ingredients\"]}.\n",
    "The recipe should adhere to the following dietary restrictions:\n",
    "{food_preferences_tommy[\"dietary_restrictions\"]}.\n",
    "The difficulty of the recipe should be: \n",
    "{food_preferences_tommy[\"experience_level\"]}\n",
    "The maximum spice level on a scale of 10 should be: \n",
    "{food_preferences_tommy[\"maximum_spice_level\"]} \n",
    "Provide a two sentence description.\n",
    "\n",
    "The recipe should not include spices outside of this list:\n",
    "Spices: {available_spices}\n",
    "\"\"\"\n",
    "print(prompt)"
   ]
  },
  {
   "cell_type": "markdown",
   "id": "4a78b961",
   "metadata": {},
   "source": [
    "Now, get the LLM response to that prompt and assign it to a variable:"
   ]
  },
  {
   "cell_type": "code",
   "execution_count": 11,
   "id": "bc9f9acf",
   "metadata": {
    "height": 30
   },
   "outputs": [],
   "source": [
    "recipe = get_llm_response(prompt)"
   ]
  },
  {
   "cell_type": "markdown",
   "id": "c87c1079",
   "metadata": {},
   "source": [
    "And print the recipe that considers Tommy's restrictions as well as the available ingredients at your house."
   ]
  },
  {
   "cell_type": "code",
   "execution_count": 12,
   "id": "d211dac7",
   "metadata": {
    "height": 30
   },
   "outputs": [
    {
     "name": "stdout",
     "output_type": "stream",
     "text": [
      "**Mediterranean Tofu and Olive Stir-Fry**\n",
      "\n",
      "Sauté cubed tofu with olives, bell peppers, and onions, then season with cumin, oregano, and paprika for a flavorful dish. Serve it over quinoa or rice for a hearty vegetarian meal that balances savory and tangy notes.\n"
     ]
    }
   ],
   "source": [
    "print(recipe)"
   ]
  },
  {
   "cell_type": "markdown",
   "id": "8dd1eebb",
   "metadata": {},
   "source": [
    "Try changing the prompt to give you step-by-step instructions and try adding a key-value pair to the dictionary that indicates favorite cuisine."
   ]
  },
  {
   "cell_type": "markdown",
   "id": "d21d016e-e278-47f9-a3da-b031eb6905e9",
   "metadata": {},
   "source": [
    "## Looking ahead"
   ]
  },
  {
   "cell_type": "markdown",
   "id": "71e7f4a4-efbe-4bbb-a6b4-60305a2e5427",
   "metadata": {},
   "source": [
    "Let's take another look at`food_preferences_tommy[\"dietary_restrictions\"]` "
   ]
  },
  {
   "cell_type": "code",
   "execution_count": 13,
   "id": "91bb95c7-1940-452d-a120-149bf8db61c7",
   "metadata": {
    "height": 30
   },
   "outputs": [
    {
     "name": "stdout",
     "output_type": "stream",
     "text": [
      "vegetarian\n"
     ]
    }
   ],
   "source": [
    "print(food_preferences_tommy[\"dietary_restrictions\"])"
   ]
  },
  {
   "cell_type": "markdown",
   "id": "b5f5fe5e-feae-4a8a-9e11-9cfb99958df2",
   "metadata": {},
   "source": [
    "Here is a different way you could tell Python that Tommy is vegetarian:"
   ]
  },
  {
   "cell_type": "code",
   "execution_count": 14,
   "id": "c447a119-a75b-4f83-87e1-81a6f4e34c13",
   "metadata": {
    "height": 30
   },
   "outputs": [],
   "source": [
    "food_preferences_tommy[\"is_vegetarian\"] = True"
   ]
  },
  {
   "cell_type": "code",
   "execution_count": 15,
   "id": "bfea6233-99af-43b8-b26f-6ba0696f34c6",
   "metadata": {
    "height": 30
   },
   "outputs": [
    {
     "name": "stdout",
     "output_type": "stream",
     "text": [
      "{'dietary_restrictions': 'vegetarian', 'favorite_ingredients': ['tofu', 'olives'], 'experience_level': 'intermediate', 'maximum_spice_level': 6, 'is_vegetarian': True}\n"
     ]
    }
   ],
   "source": [
    "print(food_preferences_tommy)"
   ]
  },
  {
   "cell_type": "markdown",
   "id": "3e43d1db-4ce2-4444-9c47-d0ae02370976",
   "metadata": {},
   "source": [
    "Go to next video to see what `True` and `False` are and how they work in Python"
   ]
  },
  {
   "cell_type": "markdown",
   "id": "cc7e65ef-1983-43d0-93b5-ce29a2c9f387",
   "metadata": {},
   "source": [
    "## Extra practice"
   ]
  },
  {
   "cell_type": "markdown",
   "id": "7389bce5-8c0d-41cf-b347-01c741078ef0",
   "metadata": {},
   "source": [
    "Please go through the exercises in the cells below if you want some extra practice for the topics you covered in this lesson."
   ]
  },
  {
   "cell_type": "code",
   "execution_count": 16,
   "id": "83969e6c-e89b-4061-8a9b-69764225dccd",
   "metadata": {
    "height": 183
   },
   "outputs": [
    {
     "name": "stdout",
     "output_type": "stream",
     "text": [
      "{'dietary_restrictions': ['None'], 'favorite_ingredients': ['Garlic', 'Avocado', 'Chicken'], 'experience_level': 'Intermediate', 'maximum_spice_level': 7}\n"
     ]
    }
   ],
   "source": [
    "my_food_preferences = {\n",
    "        \"dietary_restrictions\": [\"None\"], # No dietary restrictions\n",
    "        \"favorite_ingredients\": [\"Garlic\", \"Avocado\", \"Chicken\"], # Top three favorite ingredients\n",
    "        \"experience_level\": \"Intermediate\", # Experience level\n",
    "        \"maximum_spice_level\": 7 # Spice level on a scale from 1 to 10\n",
    "}\n",
    "\n",
    "print(my_food_preferences)\n"
   ]
  },
  {
   "cell_type": "code",
   "execution_count": 18,
   "id": "e22eb004-6a9c-4274-9ae3-c9ee106689fb",
   "metadata": {
    "height": 268
   },
   "outputs": [
    {
     "name": "stdout",
     "output_type": "stream",
     "text": [
      "____________________________________________________________________________________________________\n",
      "**Tofu and Olive Stir-Fry with Mediterranean Flavors**\n",
      "\n",
      "This flavorful stir-fry combines the creaminess of tofu with the briny taste of olives, creating a satisfying vegetarian dish. It's perfect for a quick weeknight dinner and offers a delightful mix of textures and tastes.\n",
      "\n",
      "**Ingredients:**\n",
      "- 14 oz firm tofu, drained and pressed\n",
      "- 1 cup green olives, pitted and sliced\n",
      "- 1 red bell pepper, sliced\n",
      "- 1 zucchini, sliced\n",
      "- 1 medium onion, sliced\n",
      "- 3 cloves garlic, minced\n",
      "- 2 tablespoons olive oil\n",
      "- 1 tablespoon soy sauce\n",
      "- 1 teaspoon dried oregano\n",
      "- 1 teaspoon smoked paprika\n",
      "- Salt and pepper to taste\n",
      "- Fresh parsley for garnish (optional)\n",
      "\n",
      "**Instructions:**\n",
      "\n",
      "1. **Prepare the Tofu:**\n",
      "   - Cut the pressed tofu into bite-sized cubes. Pat dry with a paper towel to remove excess moisture.\n",
      "\n",
      "2. **Marinate the Tofu:**\n",
      "   - In a bowl, combine the soy sauce, smoked paprika, oregano, salt, and pepper. Add the tofu cubes and gently toss to coat. Let it marinate for at least 15 minutes.\n",
      "\n",
      "3. **Sauté the Vegetables:**\n",
      "   - Heat 1 tablespoon of olive oil in a large skillet or wok over medium-high heat. Add the sliced onion and bell pepper, and sauté for about 3-4 minutes until they start to soften.\n",
      "\n",
      "4. **Add Zucchini and Garlic:**\n",
      "   - Add the zucchini and minced garlic to the skillet. Cook for another 3-4 minutes, stirring frequently, until the zucchini is tender.\n",
      "\n",
      "5. **Cook the Tofu:**\n",
      "   - In a separate pan, heat the remaining tablespoon of olive oil over medium-high heat. Add the marinated tofu cubes and cook for about 5-7 minutes, turning occasionally, until golden brown on all sides.\n",
      "\n",
      "6. **Combine Ingredients:**\n",
      "   - Once the tofu is cooked, add it to the skillet with the sautéed vegetables. Stir in the sliced olives and cook for an additional 2-3 minutes to heat through.\n",
      "\n",
      "7. **Serve:**\n",
      "   - Taste and adjust seasoning if necessary. Garnish with fresh parsley if desired. Serve hot over rice or quinoa.\n",
      "\n",
      "Enjoy your delicious and satisfying tofu and olive stir-fry!\n",
      "____________________________________________________________________________________________________\n",
      "\n",
      "\n"
     ]
    }
   ],
   "source": [
    "prompt = f\"\"\"Please suggest a recipe that tries to include \n",
    "the following ingredients: \n",
    "{food_preferences_tommy[\"favorite_ingredients\"]}.\n",
    "The recipe should adhere to the following dietary restrictions:\n",
    "{food_preferences_tommy[\"dietary_restrictions\"]}.\n",
    "The difficulty of the recipe should be: \n",
    "{food_preferences_tommy[\"experience_level\"]}\n",
    "The maximum spice level on a scale of 10 should be: \n",
    "{food_preferences_tommy[\"maximum_spice_level\"]}.\n",
    "Provide detailed step-by-step instructions along with a two-sentence description.\n",
    "\"\"\"\n",
    "\n",
    "\n",
    "print_llm_response(prompt)"
   ]
  }
 ],
 "metadata": {
  "kernelspec": {
   "display_name": "Python 3 (ipykernel)",
   "language": "python",
   "name": "python3"
  },
  "language_info": {
   "codemirror_mode": {
    "name": "ipython",
    "version": 3
   },
   "file_extension": ".py",
   "mimetype": "text/x-python",
   "name": "python",
   "nbconvert_exporter": "python",
   "pygments_lexer": "ipython3",
   "version": "3.9.19"
  }
 },
 "nbformat": 4,
 "nbformat_minor": 5
}
