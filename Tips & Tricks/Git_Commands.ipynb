{
 "cells": [
  {
   "cell_type": "markdown",
   "id": "b9f0c57d-204e-4a7b-973b-1965ea919c7e",
   "metadata": {},
   "source": [
    "## Git Commands"
   ]
  },
  {
   "cell_type": "markdown",
   "id": "d9fbf53a-a8eb-45d4-825c-22df43b4fc10",
   "metadata": {},
   "source": [
    "```bash\n",
    "git add .\n",
    "```\n",
    "\n",
    "```bash\n",
    "git branch -M main\n",
    "```\n",
    "\n",
    "```bash\n",
    "git commit -m \"message\"\n",
    "```\n",
    "\n",
    "```bash\n",
    "git push -u origin main\n",
    "```\n",
    "\n",
    "```bash\n",
    "git commit -a\n",
    "```\n"
   ]
  }
 ],
 "metadata": {
  "kernelspec": {
   "display_name": "Python 3 (ipykernel)",
   "language": "python",
   "name": "python3"
  },
  "language_info": {
   "codemirror_mode": {
    "name": "ipython",
    "version": 3
   },
   "file_extension": ".py",
   "mimetype": "text/x-python",
   "name": "python",
   "nbconvert_exporter": "python",
   "pygments_lexer": "ipython3",
   "version": "3.8.19"
  }
 },
 "nbformat": 4,
 "nbformat_minor": 5
}
