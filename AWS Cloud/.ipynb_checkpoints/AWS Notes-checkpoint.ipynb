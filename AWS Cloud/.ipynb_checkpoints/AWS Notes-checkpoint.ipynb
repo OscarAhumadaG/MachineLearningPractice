{
 "cells": [
  {
   "cell_type": "markdown",
   "id": "fef879f6-8fb8-46b7-af60-335bbe777769",
   "metadata": {},
   "source": [
    "## SageMaker Data Wrangler Deep Dive Workshop"
   ]
  },
  {
   "cell_type": "markdown",
   "id": "ef00b478-0590-4030-b4dd-0393d320b307",
   "metadata": {},
   "source": [
    "Buch of Topic about ML in Machine Learning University:\n",
    "[Resources of ML](https://mlu-explain.github.io/)\n",
    "[The Importance of Data Splitting](https://mlu-explain.github.io/train-test-validation/)"
   ]
  },
  {
   "cell_type": "code",
   "execution_count": null,
   "id": "6432326f-4ba7-4b7f-9def-0fe37c7ef83a",
   "metadata": {},
   "outputs": [],
   "source": []
  }
 ],
 "metadata": {
  "kernelspec": {
   "display_name": "Python 3 (ipykernel)",
   "language": "python",
   "name": "python3"
  },
  "language_info": {
   "codemirror_mode": {
    "name": "ipython",
    "version": 3
   },
   "file_extension": ".py",
   "mimetype": "text/x-python",
   "name": "python",
   "nbconvert_exporter": "python",
   "pygments_lexer": "ipython3",
   "version": "3.9.18"
  }
 },
 "nbformat": 4,
 "nbformat_minor": 5
}
